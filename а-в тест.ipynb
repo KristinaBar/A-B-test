{
 "cells": [
  {
   "cell_type": "markdown",
   "metadata": {},
   "source": [
    "***Анализ гипотез интернет-магазина для увеличения выручки***\n",
    "\n",
    "Необходимо приоритезировать гипотезы и провести А/В тестирование\n",
    "\n",
    "**Цель исследования:**\n",
    "\n",
    "1) приоритезировать гипотезы методами RICE и ICE ,\n",
    "\n",
    "2) построить графики кумулятивной выручки, среднего чека, количества заказов, стоимостей заказов;\n",
    "\n",
    "3) посчитать стат.значимость,\n",
    "\n",
    "4) сделать выводы по всем графикам и подвести итоги тестирования\n",
    "\n",
    "**Ход исследования:** Данные получены из файлов: /datasets/hypothesis.csv, /datasets/orders.csv, /datasets/visitors.csv.\n",
    "\n",
    "Для начала я использую фреймворки RICE и ICE для приоритизации гипотез и покажу, изменился ли приоритет в зависимости от метода. Далее, используя готовые результаты А/В теста я проанализирую несколько кумулятивных показателей, таких как выручка, средний чек, кол-во заказов, определю стат.значимость и приму решение по результатам теста на предмет того,  успешен ли бы тест и победила ли одна из групп.\n",
    "\n",
    "Подробные шаги прописаны ниже в проекте"
   ]
  },
  {
   "cell_type": "markdown",
   "metadata": {},
   "source": [
    "### Часть 1. Приоритизация гипотез."
   ]
  },
  {
   "cell_type": "markdown",
   "metadata": {},
   "source": [
    "#### Загрузка данных и общая инфо"
   ]
  },
  {
   "cell_type": "code",
   "execution_count": 1,
   "metadata": {},
   "outputs": [],
   "source": [
    "import pandas as pd\n",
    "import matplotlib.pyplot as plt\n",
    "import numpy as np\n",
    "import datetime as dt\n",
    "from pandas.plotting import register_matplotlib_converters\n",
    "import warnings\n",
    "import scipy.stats as stats\n",
    "# конвертеры, которые позволяют использовать типы pandas в matplotlib  \n",
    "register_matplotlib_converters()"
   ]
  },
  {
   "cell_type": "code",
   "execution_count": 2,
   "metadata": {},
   "outputs": [
    {
     "name": "stdout",
     "output_type": "stream",
     "text": [
      "<class 'pandas.core.frame.DataFrame'>\n",
      "RangeIndex: 9 entries, 0 to 8\n",
      "Data columns (total 5 columns):\n",
      " #   Column      Non-Null Count  Dtype \n",
      "---  ------      --------------  ----- \n",
      " 0   Hypothesis  9 non-null      object\n",
      " 1   Reach       9 non-null      int64 \n",
      " 2   Impact      9 non-null      int64 \n",
      " 3   Confidence  9 non-null      int64 \n",
      " 4   Efforts     9 non-null      int64 \n",
      "dtypes: int64(4), object(1)\n",
      "memory usage: 488.0+ bytes\n"
     ]
    }
   ],
   "source": [
    "hypothesis = pd.read_csv('/datasets/hypothesis.csv',  sep=',')\n",
    "pd.options.display.max_colwidth = 1\n",
    "hypothesis.info()"
   ]
  },
  {
   "cell_type": "markdown",
   "metadata": {},
   "source": [
    "Данные выглядят готовыми к работе: нет пропусков, нет дубликатов (т.к. всего 9 гипотез и они все разные, можно убедиться визуально), внешний вид названий колонок меня устраивает."
   ]
  },
  {
   "cell_type": "code",
   "execution_count": 3,
   "metadata": {},
   "outputs": [
    {
     "name": "stdout",
     "output_type": "stream",
     "text": [
      "<class 'pandas.core.frame.DataFrame'>\n",
      "RangeIndex: 1197 entries, 0 to 1196\n",
      "Data columns (total 5 columns):\n",
      " #   Column         Non-Null Count  Dtype \n",
      "---  ------         --------------  ----- \n",
      " 0   transactionId  1197 non-null   int64 \n",
      " 1   visitorId      1197 non-null   int64 \n",
      " 2   date           1197 non-null   object\n",
      " 3   revenue        1197 non-null   int64 \n",
      " 4   group          1197 non-null   object\n",
      "dtypes: int64(3), object(2)\n",
      "memory usage: 46.9+ KB\n"
     ]
    }
   ],
   "source": [
    "orders = pd.read_csv('/datasets/orders.csv')\n",
    "orders.info()"
   ]
  },
  {
   "cell_type": "code",
   "execution_count": 4,
   "metadata": {},
   "outputs": [
    {
     "name": "stdout",
     "output_type": "stream",
     "text": [
      "<class 'pandas.core.frame.DataFrame'>\n",
      "RangeIndex: 62 entries, 0 to 61\n",
      "Data columns (total 3 columns):\n",
      " #   Column    Non-Null Count  Dtype \n",
      "---  ------    --------------  ----- \n",
      " 0   date      62 non-null     object\n",
      " 1   group     62 non-null     object\n",
      " 2   visitors  62 non-null     int64 \n",
      "dtypes: int64(1), object(2)\n",
      "memory usage: 1.6+ KB\n"
     ]
    }
   ],
   "source": [
    "visitors = pd.read_csv('/datasets/visitors.csv')\n",
    "visitors.info()"
   ]
  },
  {
   "cell_type": "markdown",
   "metadata": {},
   "source": [
    "В датафреймах orders и visitors тип данных колонки с датой не соответствует дате, приведу к нужному типу и удалю очевидные дубликаты через функцию prep. "
   ]
  },
  {
   "cell_type": "code",
   "execution_count": 5,
   "metadata": {},
   "outputs": [],
   "source": [
    "def prep(df):\n",
    "    df = df.drop_duplicates()\n",
    "    df['date'] = pd.to_datetime(df['date'])\n",
    "    \n",
    "    return df"
   ]
  },
  {
   "cell_type": "code",
   "execution_count": 6,
   "metadata": {},
   "outputs": [
    {
     "name": "stdout",
     "output_type": "stream",
     "text": [
      "<class 'pandas.core.frame.DataFrame'>\n",
      "Int64Index: 1197 entries, 0 to 1196\n",
      "Data columns (total 5 columns):\n",
      " #   Column         Non-Null Count  Dtype         \n",
      "---  ------         --------------  -----         \n",
      " 0   transactionId  1197 non-null   int64         \n",
      " 1   visitorId      1197 non-null   int64         \n",
      " 2   date           1197 non-null   datetime64[ns]\n",
      " 3   revenue        1197 non-null   int64         \n",
      " 4   group          1197 non-null   object        \n",
      "dtypes: datetime64[ns](1), int64(3), object(1)\n",
      "memory usage: 56.1+ KB\n"
     ]
    }
   ],
   "source": [
    "orders = prep(orders)\n",
    "orders.info()"
   ]
  },
  {
   "cell_type": "code",
   "execution_count": 7,
   "metadata": {},
   "outputs": [
    {
     "name": "stdout",
     "output_type": "stream",
     "text": [
      "<class 'pandas.core.frame.DataFrame'>\n",
      "Int64Index: 62 entries, 0 to 61\n",
      "Data columns (total 3 columns):\n",
      " #   Column    Non-Null Count  Dtype         \n",
      "---  ------    --------------  -----         \n",
      " 0   date      62 non-null     datetime64[ns]\n",
      " 1   group     62 non-null     object        \n",
      " 2   visitors  62 non-null     int64         \n",
      "dtypes: datetime64[ns](1), int64(1), object(1)\n",
      "memory usage: 1.9+ KB\n"
     ]
    }
   ],
   "source": [
    "visitors = prep(visitors)\n",
    "visitors.info()"
   ]
  },
  {
   "cell_type": "markdown",
   "metadata": {},
   "source": [
    "Теперь данные выглядят готовыми к работе: нет пропусков, нет дубликатов, внешний вид названий колонок меня устраивает. Переходим к приоритезации."
   ]
  },
  {
   "cell_type": "code",
   "execution_count": 8,
   "metadata": {},
   "outputs": [
    {
     "name": "stdout",
     "output_type": "stream",
     "text": [
      "Кол-во пользователей, одновременно в двух группах: 108\n"
     ]
    }
   ],
   "source": [
    "check=orders[['group', 'visitorId']].duplicated().reset_index()\n",
    "check.columns = ['index', 'dupl']\n",
    "check = check.query('dupl==True')\n",
    "print(\"Кол-во пользователей, одновременно в двух группах:\", check.shape[0])"
   ]
  },
  {
   "cell_type": "code",
   "execution_count": 9,
   "metadata": {},
   "outputs": [
    {
     "name": "stdout",
     "output_type": "stream",
     "text": [
      "9.02%\n"
     ]
    }
   ],
   "source": [
    "print('{0:.2%}'.format(check.shape[0]/orders.shape[0]))"
   ]
  },
  {
   "cell_type": "code",
   "execution_count": 10,
   "metadata": {},
   "outputs": [
    {
     "data": {
      "text/html": [
       "<div>\n",
       "<style scoped>\n",
       "    .dataframe tbody tr th:only-of-type {\n",
       "        vertical-align: middle;\n",
       "    }\n",
       "\n",
       "    .dataframe tbody tr th {\n",
       "        vertical-align: top;\n",
       "    }\n",
       "\n",
       "    .dataframe thead th {\n",
       "        text-align: right;\n",
       "    }\n",
       "</style>\n",
       "<table border=\"1\" class=\"dataframe\">\n",
       "  <thead>\n",
       "    <tr style=\"text-align: right;\">\n",
       "      <th></th>\n",
       "      <th>visitorId</th>\n",
       "      <th>group</th>\n",
       "    </tr>\n",
       "  </thead>\n",
       "  <tbody>\n",
       "    <tr>\n",
       "      <th>0</th>\n",
       "      <td>8300375</td>\n",
       "      <td>2</td>\n",
       "    </tr>\n",
       "    <tr>\n",
       "      <th>1</th>\n",
       "      <td>199603092</td>\n",
       "      <td>2</td>\n",
       "    </tr>\n",
       "    <tr>\n",
       "      <th>2</th>\n",
       "      <td>232979603</td>\n",
       "      <td>2</td>\n",
       "    </tr>\n",
       "    <tr>\n",
       "      <th>3</th>\n",
       "      <td>237748145</td>\n",
       "      <td>2</td>\n",
       "    </tr>\n",
       "    <tr>\n",
       "      <th>4</th>\n",
       "      <td>276558944</td>\n",
       "      <td>2</td>\n",
       "    </tr>\n",
       "  </tbody>\n",
       "</table>\n",
       "</div>"
      ],
      "text/plain": [
       "   visitorId  group\n",
       "0  8300375    2    \n",
       "1  199603092  2    \n",
       "2  232979603  2    \n",
       "3  237748145  2    \n",
       "4  276558944  2    "
      ]
     },
     "execution_count": 10,
     "metadata": {},
     "output_type": "execute_result"
    }
   ],
   "source": [
    "x = orders.pivot_table(index='visitorId', aggfunc={'group':'nunique'}).query('group>1').reset_index()\n",
    "x.head()"
   ]
  },
  {
   "cell_type": "code",
   "execution_count": 11,
   "metadata": {},
   "outputs": [
    {
     "name": "stdout",
     "output_type": "stream",
     "text": [
      "Кол-во пользователей, одновременно в двух группах: 58\n",
      "4.85%\n"
     ]
    }
   ],
   "source": [
    "print(\"Кол-во пользователей, одновременно в двух группах:\", x.shape[0])\n",
    "print('{0:.2%}'.format(x.shape[0]/orders.shape[0]))"
   ]
  },
  {
   "cell_type": "markdown",
   "metadata": {},
   "source": [
    "Таких пользователей 58 шт, которые одновременно находятся в двух группах, и составляют всего около 5% популяции.\n",
    "\n",
    "Коллегам, которые проводили А/В тест, следует более внимательно подходить к распределению пользователей по группам и заносить результаты в таблицу."
   ]
  },
  {
   "cell_type": "markdown",
   "metadata": {},
   "source": [
    "#### фреймворк ICE"
   ]
  },
  {
   "cell_type": "markdown",
   "metadata": {},
   "source": [
    "Примените фреймворк ICE для приоритизации гипотез. Отсортируйте их по убыванию приоритета."
   ]
  },
  {
   "cell_type": "code",
   "execution_count": 12,
   "metadata": {},
   "outputs": [
    {
     "data": {
      "text/html": [
       "<div>\n",
       "<style scoped>\n",
       "    .dataframe tbody tr th:only-of-type {\n",
       "        vertical-align: middle;\n",
       "    }\n",
       "\n",
       "    .dataframe tbody tr th {\n",
       "        vertical-align: top;\n",
       "    }\n",
       "\n",
       "    .dataframe thead th {\n",
       "        text-align: right;\n",
       "    }\n",
       "</style>\n",
       "<table border=\"1\" class=\"dataframe\">\n",
       "  <thead>\n",
       "    <tr style=\"text-align: right;\">\n",
       "      <th></th>\n",
       "      <th>Hypothesis</th>\n",
       "      <th>Reach</th>\n",
       "      <th>Impact</th>\n",
       "      <th>Confidence</th>\n",
       "      <th>Efforts</th>\n",
       "      <th>ICE</th>\n",
       "    </tr>\n",
       "  </thead>\n",
       "  <tbody>\n",
       "    <tr>\n",
       "      <th>8</th>\n",
       "      <td>Запустить акцию, дающую скидку на товар в день рождения</td>\n",
       "      <td>1</td>\n",
       "      <td>9</td>\n",
       "      <td>9</td>\n",
       "      <td>5</td>\n",
       "      <td>16.200</td>\n",
       "    </tr>\n",
       "    <tr>\n",
       "      <th>0</th>\n",
       "      <td>Добавить два новых канала привлечения трафика, что позволит привлекать на 30% больше пользователей</td>\n",
       "      <td>3</td>\n",
       "      <td>10</td>\n",
       "      <td>8</td>\n",
       "      <td>6</td>\n",
       "      <td>13.333</td>\n",
       "    </tr>\n",
       "    <tr>\n",
       "      <th>7</th>\n",
       "      <td>Добавить форму подписки на все основные страницы, чтобы собрать базу клиентов для email-рассылок</td>\n",
       "      <td>10</td>\n",
       "      <td>7</td>\n",
       "      <td>8</td>\n",
       "      <td>5</td>\n",
       "      <td>11.200</td>\n",
       "    </tr>\n",
       "    <tr>\n",
       "      <th>6</th>\n",
       "      <td>Показать на главной странице баннеры с актуальными акциями и распродажами, чтобы увеличить конверсию</td>\n",
       "      <td>5</td>\n",
       "      <td>3</td>\n",
       "      <td>8</td>\n",
       "      <td>3</td>\n",
       "      <td>8.000</td>\n",
       "    </tr>\n",
       "    <tr>\n",
       "      <th>2</th>\n",
       "      <td>Добавить блоки рекомендаций товаров на сайт интернет магазина, чтобы повысить конверсию и средний чек заказа</td>\n",
       "      <td>8</td>\n",
       "      <td>3</td>\n",
       "      <td>7</td>\n",
       "      <td>3</td>\n",
       "      <td>7.000</td>\n",
       "    </tr>\n",
       "    <tr>\n",
       "      <th>1</th>\n",
       "      <td>Запустить собственную службу доставки, что сократит срок доставки заказов</td>\n",
       "      <td>2</td>\n",
       "      <td>5</td>\n",
       "      <td>4</td>\n",
       "      <td>10</td>\n",
       "      <td>2.000</td>\n",
       "    </tr>\n",
       "    <tr>\n",
       "      <th>5</th>\n",
       "      <td>Добавить страницу отзывов клиентов о магазине, что позволит увеличить количество заказов</td>\n",
       "      <td>3</td>\n",
       "      <td>2</td>\n",
       "      <td>2</td>\n",
       "      <td>3</td>\n",
       "      <td>1.333</td>\n",
       "    </tr>\n",
       "    <tr>\n",
       "      <th>3</th>\n",
       "      <td>Изменить структура категорий, что увеличит конверсию, т.к. пользователи быстрее найдут нужный товар</td>\n",
       "      <td>8</td>\n",
       "      <td>3</td>\n",
       "      <td>3</td>\n",
       "      <td>8</td>\n",
       "      <td>1.125</td>\n",
       "    </tr>\n",
       "    <tr>\n",
       "      <th>4</th>\n",
       "      <td>Изменить цвет фона главной страницы, чтобы увеличить вовлеченность пользователей</td>\n",
       "      <td>3</td>\n",
       "      <td>1</td>\n",
       "      <td>1</td>\n",
       "      <td>1</td>\n",
       "      <td>1.000</td>\n",
       "    </tr>\n",
       "  </tbody>\n",
       "</table>\n",
       "</div>"
      ],
      "text/plain": [
       "                                                                                                     Hypothesis  \\\n",
       "8  Запустить акцию, дающую скидку на товар в день рождения                                                        \n",
       "0  Добавить два новых канала привлечения трафика, что позволит привлекать на 30% больше пользователей             \n",
       "7  Добавить форму подписки на все основные страницы, чтобы собрать базу клиентов для email-рассылок               \n",
       "6  Показать на главной странице баннеры с актуальными акциями и распродажами, чтобы увеличить конверсию           \n",
       "2  Добавить блоки рекомендаций товаров на сайт интернет магазина, чтобы повысить конверсию и средний чек заказа   \n",
       "1  Запустить собственную службу доставки, что сократит срок доставки заказов                                      \n",
       "5  Добавить страницу отзывов клиентов о магазине, что позволит увеличить количество заказов                       \n",
       "3  Изменить структура категорий, что увеличит конверсию, т.к. пользователи быстрее найдут нужный товар            \n",
       "4  Изменить цвет фона главной страницы, чтобы увеличить вовлеченность пользователей                               \n",
       "\n",
       "   Reach  Impact  Confidence  Efforts     ICE  \n",
       "8  1      9       9           5        16.200  \n",
       "0  3      10      8           6        13.333  \n",
       "7  10     7       8           5        11.200  \n",
       "6  5      3       8           3        8.000   \n",
       "2  8      3       7           3        7.000   \n",
       "1  2      5       4           10       2.000   \n",
       "5  3      2       2           3        1.333   \n",
       "3  8      3       3           8        1.125   \n",
       "4  3      1       1           1        1.000   "
      ]
     },
     "execution_count": 12,
     "metadata": {},
     "output_type": "execute_result"
    }
   ],
   "source": [
    "hypothesis['ICE'] = round(hypothesis['Impact']* hypothesis['Confidence'] / hypothesis['Efforts'], 3)\n",
    "hypothesis = hypothesis.sort_values(by='ICE', ascending=False)\n",
    "hypothesis"
   ]
  },
  {
   "cell_type": "markdown",
   "metadata": {},
   "source": [
    "Наиболее перспективные гипотезы по методу ICE - это 8, 0, 7."
   ]
  },
  {
   "cell_type": "markdown",
   "metadata": {},
   "source": [
    "#### фреймворк RICE"
   ]
  },
  {
   "cell_type": "markdown",
   "metadata": {},
   "source": [
    "Примените фреймворк RICE для приоритизации гипотез. Отсортируйте их по убыванию приоритета."
   ]
  },
  {
   "cell_type": "code",
   "execution_count": 13,
   "metadata": {},
   "outputs": [
    {
     "data": {
      "text/html": [
       "<div>\n",
       "<style scoped>\n",
       "    .dataframe tbody tr th:only-of-type {\n",
       "        vertical-align: middle;\n",
       "    }\n",
       "\n",
       "    .dataframe tbody tr th {\n",
       "        vertical-align: top;\n",
       "    }\n",
       "\n",
       "    .dataframe thead th {\n",
       "        text-align: right;\n",
       "    }\n",
       "</style>\n",
       "<table border=\"1\" class=\"dataframe\">\n",
       "  <thead>\n",
       "    <tr style=\"text-align: right;\">\n",
       "      <th></th>\n",
       "      <th>Hypothesis</th>\n",
       "      <th>Reach</th>\n",
       "      <th>Impact</th>\n",
       "      <th>Confidence</th>\n",
       "      <th>Efforts</th>\n",
       "      <th>ICE</th>\n",
       "      <th>RICE</th>\n",
       "    </tr>\n",
       "  </thead>\n",
       "  <tbody>\n",
       "    <tr>\n",
       "      <th>7</th>\n",
       "      <td>Добавить форму подписки на все основные страницы, чтобы собрать базу клиентов для email-рассылок</td>\n",
       "      <td>10</td>\n",
       "      <td>7</td>\n",
       "      <td>8</td>\n",
       "      <td>5</td>\n",
       "      <td>11.200</td>\n",
       "      <td>112.0</td>\n",
       "    </tr>\n",
       "    <tr>\n",
       "      <th>2</th>\n",
       "      <td>Добавить блоки рекомендаций товаров на сайт интернет магазина, чтобы повысить конверсию и средний чек заказа</td>\n",
       "      <td>8</td>\n",
       "      <td>3</td>\n",
       "      <td>7</td>\n",
       "      <td>3</td>\n",
       "      <td>7.000</td>\n",
       "      <td>56.0</td>\n",
       "    </tr>\n",
       "    <tr>\n",
       "      <th>0</th>\n",
       "      <td>Добавить два новых канала привлечения трафика, что позволит привлекать на 30% больше пользователей</td>\n",
       "      <td>3</td>\n",
       "      <td>10</td>\n",
       "      <td>8</td>\n",
       "      <td>6</td>\n",
       "      <td>13.333</td>\n",
       "      <td>40.0</td>\n",
       "    </tr>\n",
       "    <tr>\n",
       "      <th>6</th>\n",
       "      <td>Показать на главной странице баннеры с актуальными акциями и распродажами, чтобы увеличить конверсию</td>\n",
       "      <td>5</td>\n",
       "      <td>3</td>\n",
       "      <td>8</td>\n",
       "      <td>3</td>\n",
       "      <td>8.000</td>\n",
       "      <td>40.0</td>\n",
       "    </tr>\n",
       "    <tr>\n",
       "      <th>8</th>\n",
       "      <td>Запустить акцию, дающую скидку на товар в день рождения</td>\n",
       "      <td>1</td>\n",
       "      <td>9</td>\n",
       "      <td>9</td>\n",
       "      <td>5</td>\n",
       "      <td>16.200</td>\n",
       "      <td>16.2</td>\n",
       "    </tr>\n",
       "    <tr>\n",
       "      <th>3</th>\n",
       "      <td>Изменить структура категорий, что увеличит конверсию, т.к. пользователи быстрее найдут нужный товар</td>\n",
       "      <td>8</td>\n",
       "      <td>3</td>\n",
       "      <td>3</td>\n",
       "      <td>8</td>\n",
       "      <td>1.125</td>\n",
       "      <td>9.0</td>\n",
       "    </tr>\n",
       "    <tr>\n",
       "      <th>1</th>\n",
       "      <td>Запустить собственную службу доставки, что сократит срок доставки заказов</td>\n",
       "      <td>2</td>\n",
       "      <td>5</td>\n",
       "      <td>4</td>\n",
       "      <td>10</td>\n",
       "      <td>2.000</td>\n",
       "      <td>4.0</td>\n",
       "    </tr>\n",
       "    <tr>\n",
       "      <th>5</th>\n",
       "      <td>Добавить страницу отзывов клиентов о магазине, что позволит увеличить количество заказов</td>\n",
       "      <td>3</td>\n",
       "      <td>2</td>\n",
       "      <td>2</td>\n",
       "      <td>3</td>\n",
       "      <td>1.333</td>\n",
       "      <td>4.0</td>\n",
       "    </tr>\n",
       "    <tr>\n",
       "      <th>4</th>\n",
       "      <td>Изменить цвет фона главной страницы, чтобы увеличить вовлеченность пользователей</td>\n",
       "      <td>3</td>\n",
       "      <td>1</td>\n",
       "      <td>1</td>\n",
       "      <td>1</td>\n",
       "      <td>1.000</td>\n",
       "      <td>3.0</td>\n",
       "    </tr>\n",
       "  </tbody>\n",
       "</table>\n",
       "</div>"
      ],
      "text/plain": [
       "                                                                                                     Hypothesis  \\\n",
       "7  Добавить форму подписки на все основные страницы, чтобы собрать базу клиентов для email-рассылок               \n",
       "2  Добавить блоки рекомендаций товаров на сайт интернет магазина, чтобы повысить конверсию и средний чек заказа   \n",
       "0  Добавить два новых канала привлечения трафика, что позволит привлекать на 30% больше пользователей             \n",
       "6  Показать на главной странице баннеры с актуальными акциями и распродажами, чтобы увеличить конверсию           \n",
       "8  Запустить акцию, дающую скидку на товар в день рождения                                                        \n",
       "3  Изменить структура категорий, что увеличит конверсию, т.к. пользователи быстрее найдут нужный товар            \n",
       "1  Запустить собственную службу доставки, что сократит срок доставки заказов                                      \n",
       "5  Добавить страницу отзывов клиентов о магазине, что позволит увеличить количество заказов                       \n",
       "4  Изменить цвет фона главной страницы, чтобы увеличить вовлеченность пользователей                               \n",
       "\n",
       "   Reach  Impact  Confidence  Efforts     ICE   RICE  \n",
       "7  10     7       8           5        11.200  112.0  \n",
       "2  8      3       7           3        7.000   56.0   \n",
       "0  3      10      8           6        13.333  40.0   \n",
       "6  5      3       8           3        8.000   40.0   \n",
       "8  1      9       9           5        16.200  16.2   \n",
       "3  8      3       3           8        1.125   9.0    \n",
       "1  2      5       4           10       2.000   4.0    \n",
       "5  3      2       2           3        1.333   4.0    \n",
       "4  3      1       1           1        1.000   3.0    "
      ]
     },
     "execution_count": 13,
     "metadata": {},
     "output_type": "execute_result"
    }
   ],
   "source": [
    "hypothesis['RICE'] = round(hypothesis['Reach'] * hypothesis['Impact'] * hypothesis['Confidence'] / hypothesis['Efforts'],3)\n",
    "hypothesis = hypothesis.sort_values(by='RICE', ascending=False)\n",
    "hypothesis"
   ]
  },
  {
   "cell_type": "markdown",
   "metadata": {},
   "source": [
    "Наиболее перспективные гипотезы по методу RICE - это 7, 2, 0 и 6 (последние делят вместе 3е место, т.к. обе набрали по 40 очков)"
   ]
  },
  {
   "cell_type": "markdown",
   "metadata": {},
   "source": [
    "**Вывод:** как изменилась приоритизация гипотез при применении RICE вместо ICE и почему?\n",
    "\n",
    "При методе RICE на первое место вышла гипотеза 7, которая при методе ICE занимала только 3 место, при этом добавилась в ТОП гипотеза 2 и 6, которые при первом методе набрали почти минимальное кол-во баллов.\n",
    "\n",
    "Т.к. метод RICE является более подробным, т.к. еще учитывает и степень охвата пользователей (в отличие от ICE), которых коснутся изменения, то считаю, что стоит попробовать тестирование гипотез 7, 2, 0 и 6.\n"
   ]
  },
  {
   "cell_type": "markdown",
   "metadata": {},
   "source": [
    "### Часть 2. Анализ A/B-теста"
   ]
  },
  {
   "cell_type": "markdown",
   "metadata": {},
   "source": [
    "#### Кумулятивная выручка по группам"
   ]
  },
  {
   "cell_type": "markdown",
   "metadata": {},
   "source": [
    "Постройте график кумулятивной выручки по группам. Сделайте выводы и предположения."
   ]
  },
  {
   "cell_type": "code",
   "execution_count": 14,
   "metadata": {},
   "outputs": [
    {
     "data": {
      "image/png": "[encoded data removed]",
      "text/plain": [
       "<Figure size 432x288 with 1 Axes>"
      ]
     },
     "metadata": {
      "needs_background": "light"
     },
     "output_type": "display_data"
    }
   ],
   "source": [
    "datesGroups = orders[['date', 'group']].drop_duplicates()\n",
    "\n",
    "ordersAggregated = datesGroups.apply(\n",
    "    lambda x: orders[\n",
    "        np.logical_and(\n",
    "            orders['date'] <= x['date'], orders['group'] == x['group']\n",
    "        )\n",
    "    ].agg(\n",
    "        {\n",
    "            'date': 'max',\n",
    "            'group': 'max',\n",
    "            'transactionId': 'nunique',\n",
    "            'visitorId': 'nunique',\n",
    "            'revenue': 'sum',\n",
    "        }\n",
    "    ),\n",
    "    axis=1,\n",
    ").sort_values(by=['date', 'group'])\n",
    "\n",
    "visitorsAggregated = datesGroups.apply(\n",
    "    lambda x: visitors[\n",
    "        np.logical_and(\n",
    "            visitors['date'] <= x['date'], visitors['group'] == x['group']\n",
    "        )\n",
    "    ].agg({'date': 'max', 'group': 'max', 'visitors': 'sum'}),\n",
    "    axis=1,\n",
    ").sort_values(by=['date', 'group'])\n",
    "\n",
    "cumulativeData = ordersAggregated.merge(\n",
    "    visitorsAggregated, left_on=['date', 'group'], right_on=['date', 'group']\n",
    ")\n",
    "cumulativeData.columns = [\n",
    "    'date',\n",
    "    'group',\n",
    "    'orders',\n",
    "    'buyers',\n",
    "    'revenue',\n",
    "    'visitors',\n",
    "]\n",
    "\n",
    "# датафрейм с кумулятивным количеством заказов и кумулятивной выручкой по дням в группе А\n",
    "cumulativeRevenueA = cumulativeData[cumulativeData['group']=='A'][['date','revenue', 'orders']]\n",
    "\n",
    "# датафрейм с кумулятивным количеством заказов и кумулятивной выручкой по дням в группе B\n",
    "cumulativeRevenueB = cumulativeData[cumulativeData['group']=='B'][['date','revenue', 'orders']]\n",
    "\n",
    "# Строим график выручки группы А\n",
    "plt.plot(cumulativeRevenueA['date'], cumulativeRevenueA['revenue'], label='A')\n",
    "\n",
    "# Строим график выручки группы B\n",
    "plt.plot(cumulativeRevenueB['date'], cumulativeRevenueB['revenue'], label='B')\n",
    "\n",
    "plt.ylabel('Выручка')\n",
    "plt.xlabel('Дата')\n",
    "plt.title('Кумулятивная выручка по группам')\n",
    "plt.xticks(rotation='vertical')\n",
    "plt.legend() \n",
    "plt.show()\n"
   ]
  },
  {
   "cell_type": "markdown",
   "metadata": {},
   "source": [
    "График кумулятивной выручки показывает, что выручка группы В значительно выше, чем по группе А. Хотя, при этом, так же у группы В наблюдается резкий скачок между 21 и 17 августа, вероятно, резко выросло число заказов, либо были созданы очень дорогие заказы, в то время как по группе А выручка растет стабильно и плавно от даты к дате. Проверку данных на наличие аномальных значений выполним далее в работе."
   ]
  },
  {
   "cell_type": "markdown",
   "metadata": {},
   "source": [
    "#### Кумулятивный средний чек по группам"
   ]
  },
  {
   "cell_type": "markdown",
   "metadata": {},
   "source": [
    "Постройте график кумулятивного среднего чека по группам. Сделайте выводы и предположения."
   ]
  },
  {
   "cell_type": "code",
   "execution_count": 15,
   "metadata": {},
   "outputs": [
    {
     "data": {
      "image/png": "[encoded data removed]",
      "text/plain": [
       "<Figure size 432x288 with 1 Axes>"
      ]
     },
     "metadata": {
      "needs_background": "light"
     },
     "output_type": "display_data"
    }
   ],
   "source": [
    "plt.plot(cumulativeRevenueA['date'], cumulativeRevenueA['revenue']/cumulativeRevenueA['orders'], label='A')\n",
    "plt.plot(cumulativeRevenueB['date'], cumulativeRevenueB['revenue']/cumulativeRevenueB['orders'], label='B')\n",
    "\n",
    "plt.ylabel('Средний чек')\n",
    "plt.xlabel('Дата')\n",
    "plt.title('Кумулятивный средний чек по группам')\n",
    "plt.xticks(rotation='vertical')\n",
    "plt.legend() \n",
    "plt.show()\n"
   ]
  },
  {
   "cell_type": "markdown",
   "metadata": {},
   "source": [
    "График кумулятивного среднего чека так же доказывает, что в группе В произошел какой-то резкий скачок по заказам- вероятно, слишком дорогой заказ был оформлен. Средние чекипо группе А тоже имеют аномальное падение в начальных числах августа, затем к концу анализируемого периода стабилизируется."
   ]
  },
  {
   "cell_type": "markdown",
   "metadata": {},
   "source": [
    "#### Относительное изменение кумулятивного среднего чека группы B к группе A"
   ]
  },
  {
   "cell_type": "markdown",
   "metadata": {},
   "source": [
    "Постройте график относительного изменения кумулятивного среднего чека группы B к группе A. Сделайте выводы и предположения."
   ]
  },
  {
   "cell_type": "code",
   "execution_count": 16,
   "metadata": {},
   "outputs": [
    {
     "data": {
      "image/png": "[encoded data removed]",
      "text/plain": [
       "<Figure size 432x288 with 1 Axes>"
      ]
     },
     "metadata": {
      "needs_background": "light"
     },
     "output_type": "display_data"
    }
   ],
   "source": [
    "# собираем данные в одном датафрейме\n",
    "mergedCumulativeRevenue = cumulativeRevenueA.merge(cumulativeRevenueB, left_on='date', right_on='date', how='left', suffixes=['A', 'B'])\n",
    "\n",
    "# cтроим отношение средних чеков\n",
    "plt.plot(mergedCumulativeRevenue['date'], (mergedCumulativeRevenue['revenueB']/mergedCumulativeRevenue['ordersB'])/(mergedCumulativeRevenue['revenueA']/mergedCumulativeRevenue['ordersA'])-1)\n",
    "\n",
    "# добавляем ось X\n",
    "plt.axhline(y=0, color='black', linestyle='--') \n",
    "\n",
    "plt.ylabel('Коэффициент')\n",
    "plt.xlabel('Дата')\n",
    "plt.title('Относительное изменение кумулятивного среднего чека по группам')\n",
    "plt.xticks(rotation='vertical')\n",
    "\n",
    "plt.show()"
   ]
  },
  {
   "cell_type": "markdown",
   "metadata": {},
   "source": [
    "Такой график нам показывает на сколько сильно отличается средний чек между группами от даты к дате. Есть 2 аномальных всплеска 5 и 17 августа, вероятно, именно в эти даты все-таки были совершены очень дорогие/ либо очень много заказов, что показывали нам и все предыдущие графики. Значит, аномальные выбросы все-таки есть и мы рассмотрим их дальше."
   ]
  },
  {
   "cell_type": "markdown",
   "metadata": {},
   "source": [
    "#### Кумулятивное среднее количество заказов на посетителя по группам"
   ]
  },
  {
   "cell_type": "markdown",
   "metadata": {},
   "source": [
    "Постройте график кумулятивного среднего количества заказов на посетителя по группам. Сделайте выводы и предположения."
   ]
  },
  {
   "cell_type": "code",
   "execution_count": 17,
   "metadata": {},
   "outputs": [
    {
     "data": {
      "image/png": "[encoded data removed]",
      "text/plain": [
       "<Figure size 432x288 with 1 Axes>"
      ]
     },
     "metadata": {
      "needs_background": "light"
     },
     "output_type": "display_data"
    }
   ],
   "source": [
    "# считаем среднее количество заказов на посетителя\n",
    "cumulativeData['conversion'] = cumulativeData['orders']/cumulativeData['visitors']\n",
    "\n",
    "# отделяем данные по группе A\n",
    "cumulativeDataA = cumulativeData[cumulativeData['group']=='A']\n",
    "\n",
    "# отделяем данные по группе B\n",
    "cumulativeDataB = cumulativeData[cumulativeData['group']=='B']\n",
    "\n",
    "# строим графики\n",
    "plt.plot(cumulativeDataA['date'], cumulativeDataA['conversion'], label='A')\n",
    "plt.plot(cumulativeDataB['date'], cumulativeDataB['conversion'], label='B')\n",
    "plt.ylabel('Кол-во заказов')\n",
    "plt.xlabel('Дата')\n",
    "plt.title('Кумулятивное среднее кол-во заказов на посетителя по группам')\n",
    "plt.xticks(rotation='vertical')\n",
    "plt.legend() \n",
    "# задаем масштаб осей\n",
    "plt.axis([dt.datetime(2019, 8, 1), dt.datetime(2019, 9, 1), 0, 0.05])\n",
    "plt.show()\n"
   ]
  },
  {
   "cell_type": "markdown",
   "metadata": {},
   "source": [
    "В первые 5 дней августа кол-во заказов на посетителя было близко у групп А и В, затем группа В вырвалась вперед, а группа А одновременно с этим немного просела, и после этого скачка линии среднего кол-ва заказов стабилизировались у обеих групп относительно друг друга."
   ]
  },
  {
   "cell_type": "markdown",
   "metadata": {},
   "source": [
    "#### Относительное изменение кумулятивного среднего количества заказов на посетителя группы B к группе A"
   ]
  },
  {
   "cell_type": "markdown",
   "metadata": {},
   "source": [
    "Постройте график относительного изменения кумулятивного среднего количества заказов на посетителя группы B к группе A. Сделайте выводы и предположения."
   ]
  },
  {
   "cell_type": "code",
   "execution_count": 18,
   "metadata": {},
   "outputs": [
    {
     "data": {
      "image/png": "[encoded data removed]",
      "text/plain": [
       "<Figure size 432x288 with 1 Axes>"
      ]
     },
     "metadata": {
      "needs_background": "light"
     },
     "output_type": "display_data"
    }
   ],
   "source": [
    "mergedCumulativeConversions = cumulativeDataA[['date','conversion']].merge(cumulativeDataB[['date','conversion']], left_on='date', right_on='date', how='left', suffixes=['A', 'B'])\n",
    "\n",
    "plt.plot(mergedCumulativeConversions['date'], \n",
    "         mergedCumulativeConversions['conversionB']/mergedCumulativeConversions['conversionA']-1)\n",
    "\n",
    "plt.axhline(y=0, color='black', linestyle='--')\n",
    "plt.axhline(y=0.2, color='grey', linestyle='--')\n",
    "\n",
    "plt.ylabel('Коэффициент')\n",
    "plt.xlabel('Дата')\n",
    "plt.title(\"Относительный прирост кумулятивного среднего количества заказов на посетителя группы B относительно группы A\")\n",
    "plt.xticks(rotation='vertical')\n",
    "\n",
    "# задаем масштаб осей\n",
    "plt.axis([dt.datetime(2019, 8, 1), dt.datetime(2019, 9, 1), -0.5, 0.5])\n",
    "plt.show()"
   ]
  },
  {
   "cell_type": "markdown",
   "metadata": {},
   "source": [
    "В начале теста группа B немного проигрывала группе A, затем вырвалась вперёд и продолжает держать лидирующую позицию на уровне 20% по сравнению с группой А."
   ]
  },
  {
   "cell_type": "markdown",
   "metadata": {},
   "source": [
    "#### Количество заказов по пользователям"
   ]
  },
  {
   "cell_type": "markdown",
   "metadata": {},
   "source": [
    "Постройте точечный график количества заказов по пользователям. Сделайте выводы и предположения."
   ]
  },
  {
   "cell_type": "code",
   "execution_count": 19,
   "metadata": {},
   "outputs": [
    {
     "data": {
      "image/png": "[encoded data removed]",
      "text/plain": [
       "<Figure size 432x288 with 1 Axes>"
      ]
     },
     "metadata": {
      "needs_background": "light"
     },
     "output_type": "display_data"
    }
   ],
   "source": [
    "ordersByUsers = (\n",
    "    orders.groupby('visitorId', as_index=False)\n",
    "    .agg({'transactionId': 'nunique'})\n",
    ")\n",
    "ordersByUsers.columns = ['userId', 'orders']\n",
    "\n",
    "# серия из чисел от 0 до количества наблюдений в ordersByUsers\n",
    "x_values = pd.Series(range(0, len(ordersByUsers)))\n",
    "plt.scatter(x_values, ordersByUsers['orders']) \n",
    "\n",
    "plt.ylabel('Кол-во заказов на пользователя')\n",
    "plt.xlabel('Частота')\n",
    "plt.title(\"Кол-во заказов по пользователям\")\n",
    "\n",
    "plt.show()"
   ]
  },
  {
   "cell_type": "markdown",
   "metadata": {},
   "source": [
    "Точечный график нам четко показывает, что больше всего пользователей, которые заказывали в среднем по 1 заказу, максимум по 2.\n",
    "\n",
    "А пользователей с заказом более 2 становится меньше с увеличением кол-ва заказов. Так, можно предположить, что пользователи более чем с 4-5 заказами - аномальные выбросы, которые скорее всего мы отбросим далее после анализа."
   ]
  },
  {
   "cell_type": "markdown",
   "metadata": {},
   "source": [
    "#### 95-й и 99-й перцентили количества заказов на пользователя"
   ]
  },
  {
   "cell_type": "markdown",
   "metadata": {},
   "source": [
    "Посчитайте 95-й и 99-й перцентили количества заказов на пользователя. Выберите границу для определения аномальных пользователей."
   ]
  },
  {
   "cell_type": "code",
   "execution_count": 20,
   "metadata": {},
   "outputs": [
    {
     "name": "stdout",
     "output_type": "stream",
     "text": [
      "[1. 2. 4.]\n"
     ]
    }
   ],
   "source": [
    "print(np.percentile(ordersByUsers['orders'], [90, 95, 99])) "
   ]
  },
  {
   "cell_type": "markdown",
   "metadata": {},
   "source": [
    "В итоге, 10% пользователей заказывали более 1 раза, 5% пользователей совершили более 2ух заказов, и 1% пользователей более 4 заказов.\n",
    "\n",
    "На практике принято отсеивать от 1% до 5% наблюдений с крайними значениями, поэтому, будем отсеивать пользователей, которые совершили более, чем 2 заказа ( т.е. уберем не более 5% от наших данных, что допустимо)."
   ]
  },
  {
   "cell_type": "markdown",
   "metadata": {},
   "source": [
    "#### Стоимость заказов"
   ]
  },
  {
   "cell_type": "markdown",
   "metadata": {},
   "source": [
    "Постройте точечный график стоимостей заказов. Сделайте выводы и предположения."
   ]
  },
  {
   "cell_type": "code",
   "execution_count": 21,
   "metadata": {},
   "outputs": [
    {
     "data": {
      "image/png": "[encoded data removed]",
      "text/plain": [
       "<Figure size 432x288 with 1 Axes>"
      ]
     },
     "metadata": {
      "needs_background": "light"
     },
     "output_type": "display_data"
    }
   ],
   "source": [
    "x_values_1 = pd.Series(range(0, len(orders['revenue'])))\n",
    "\n",
    "plt.scatter(x_values_1,orders['revenue'])\n",
    "\n",
    "plt.ylabel('Выручка')\n",
    "plt.xlabel('Частота')\n",
    "plt.title(\"Выручка по заказам\")\n",
    "plt.ylim(0, 200000)\n",
    "\n",
    "plt.show()"
   ]
  },
  {
   "cell_type": "markdown",
   "metadata": {},
   "source": [
    "Точечный график нам четко показывает, что больше заказов оформлено было на сумму до 200 тр.\n",
    "\n",
    "Так, можно предположить, что заказы стоимостью выше чем где-то 100 тр (насколько позволяет оценить такой график визуально) - аномальные выбросы, которые скорее всего мы отбросим далее после более точного анализа."
   ]
  },
  {
   "cell_type": "markdown",
   "metadata": {},
   "source": [
    "#### 95-й и 99-й перцентили стоимости заказов"
   ]
  },
  {
   "cell_type": "markdown",
   "metadata": {},
   "source": [
    "Посчитайте 95-й и 99-й перцентили стоимости заказов. Выберите границу для определения аномальных заказов."
   ]
  },
  {
   "cell_type": "code",
   "execution_count": 22,
   "metadata": {},
   "outputs": [
    {
     "name": "stdout",
     "output_type": "stream",
     "text": [
      "[18168.  28000.  58233.2]\n"
     ]
    }
   ],
   "source": [
    "print(np.percentile(orders['revenue'], [90, 95, 99]))"
   ]
  },
  {
   "cell_type": "markdown",
   "metadata": {},
   "source": [
    "В итоге, 10% заказов оформлено по стоимости выше 18 168 руб, 5% заказов свыше 28 000 руб, и 1% заказов дороже 58 233 руб.\n",
    "\n",
    "На практике принято отсеивать от 1% до 5% наблюдений с крайними значениями. И, так как между 95 и 99 процентилями слишком большой разбег, немного округлю наше пороговое значение до 30 000 руб. Поэтому, будем отсеивать заказы стоимость выше чем 30 000 руб  (т.е. уберем не более 5% от наших данных, что допустимо)."
   ]
  },
  {
   "cell_type": "markdown",
   "metadata": {},
   "source": [
    "#### Стат. значимость различий в среднем кол-ве заказов на посетителя между группами (сырые)"
   ]
  },
  {
   "cell_type": "markdown",
   "metadata": {},
   "source": [
    "Посчитайте статистическую значимость различий в среднем количестве заказов на посетителя между группами по «сырым» данным. Сделайте выводы и предположения."
   ]
  },
  {
   "cell_type": "markdown",
   "metadata": {},
   "source": [
    "\n",
    "Нулевая гипотеза: различий в среднем кол-ве заказов на посетителя между группами  нет. \n",
    "\n",
    "Альтернативная гипотеза: различия есть. \n",
    "    \n",
    "Критический уровень статистической значимости по умолчанию принимаем как 0.05 - самый распространенный уровень, который принимают в тестах\n",
    "    \n",
    "Тестировать будем при помощи непараметрического метода st.mannwhitneyu()\n",
    "\n",
    "</div>"
   ]
  },
  {
   "cell_type": "code",
   "execution_count": 23,
   "metadata": {},
   "outputs": [],
   "source": [
    "visitorsADaily = visitors[visitors['group'] == 'A'][['date', 'visitors']]\n",
    "visitorsADaily.columns = ['date', 'visitorsPerDateA']\n",
    "\n",
    "visitorsACummulative = visitorsADaily.apply(\n",
    "    lambda x: visitorsADaily[visitorsADaily['date'] <= x['date']].agg(\n",
    "        {'date': 'max', 'visitorsPerDateA': 'sum'}\n",
    "    ),\n",
    "    axis=1,\n",
    ")\n",
    "visitorsACummulative.columns = ['date', 'visitorsCummulativeA']\n",
    "\n",
    "visitorsBDaily = visitors[visitors['group'] == 'B'][['date', 'visitors']]\n",
    "visitorsBDaily.columns = ['date', 'visitorsPerDateB']\n",
    "\n",
    "visitorsBCummulative = visitorsBDaily.apply(\n",
    "    lambda x: visitorsBDaily[visitorsBDaily['date'] <= x['date']].agg(\n",
    "        {'date': 'max', 'visitorsPerDateB': 'sum'}\n",
    "    ),\n",
    "    axis=1,\n",
    ")\n",
    "visitorsBCummulative.columns = ['date', 'visitorsCummulativeB']"
   ]
  },
  {
   "cell_type": "code",
   "execution_count": 24,
   "metadata": {},
   "outputs": [],
   "source": [
    "ordersADaily = (\n",
    "    orders[orders['group'] == 'A'][['date', 'transactionId', 'visitorId', 'revenue']]\n",
    "    .groupby('date', as_index=False)\n",
    "    .agg({'transactionId': pd.Series.nunique, 'revenue': 'sum'})\n",
    ")\n",
    "ordersADaily.columns = ['date', 'ordersPerDateA', 'revenuePerDateA']\n",
    "\n",
    "ordersACummulative = ordersADaily.apply(\n",
    "    lambda x: ordersADaily[ordersADaily['date'] <= x['date']].agg(\n",
    "        {'date': 'max', 'ordersPerDateA': 'sum', 'revenuePerDateA': 'sum'}\n",
    "    ),\n",
    "    axis=1,\n",
    ").sort_values(by=['date'])\n",
    "ordersACummulative.columns = [\n",
    "    'date',\n",
    "    'ordersCummulativeA',\n",
    "    'revenueCummulativeA',\n",
    "]\n",
    "\n",
    "ordersBDaily = (\n",
    "    orders[orders['group'] == 'B'][['date', 'transactionId', 'visitorId', 'revenue']]\n",
    "    .groupby('date', as_index=False)\n",
    "    .agg({'transactionId': pd.Series.nunique, 'revenue': 'sum'})\n",
    ")\n",
    "ordersBDaily.columns = ['date', 'ordersPerDateB', 'revenuePerDateB']\n",
    "\n",
    "ordersBCummulative = ordersBDaily.apply(\n",
    "    lambda x: ordersBDaily[ordersBDaily['date'] <= x['date']].agg(\n",
    "        {'date': 'max', 'ordersPerDateB': 'sum', 'revenuePerDateB': 'sum'}\n",
    "    ),\n",
    "    axis=1,\n",
    ").sort_values(by=['date'])\n",
    "ordersBCummulative.columns = [\n",
    "    'date',\n",
    "    'ordersCummulativeB',\n",
    "    'revenueCummulativeB',\n",
    "]"
   ]
  },
  {
   "cell_type": "code",
   "execution_count": 25,
   "metadata": {},
   "outputs": [],
   "source": [
    "data = (\n",
    "    ordersADaily.merge(\n",
    "        ordersBDaily, left_on='date', right_on='date', how='left'\n",
    "    )\n",
    "    .merge(ordersACummulative, left_on='date', right_on='date', how='left')\n",
    "    .merge(ordersBCummulative, left_on='date', right_on='date', how='left')\n",
    "    .merge(visitorsADaily, left_on='date', right_on='date', how='left')\n",
    "    .merge(visitorsBDaily, left_on='date', right_on='date', how='left')\n",
    "    .merge(visitorsACummulative, left_on='date', right_on='date', how='left')\n",
    "    .merge(visitorsBCummulative, left_on='date', right_on='date', how='left')\n",
    ")"
   ]
  },
  {
   "cell_type": "code",
   "execution_count": 26,
   "metadata": {},
   "outputs": [],
   "source": [
    "ordersByUsersA = (\n",
    "    orders[orders['group'] == 'A']\n",
    "    .groupby('visitorId', as_index=False)\n",
    "    .agg({'transactionId': pd.Series.nunique})\n",
    ")\n",
    "ordersByUsersA.columns = ['userId', 'orders']\n",
    "\n",
    "ordersByUsersB = (\n",
    "    orders[orders['group'] == 'B']\n",
    "    .groupby('visitorId', as_index=False)\n",
    "    .agg({'transactionId': pd.Series.nunique})\n",
    ")\n",
    "ordersByUsersB.columns = ['userId', 'orders'] "
   ]
  },
  {
   "cell_type": "code",
   "execution_count": 27,
   "metadata": {},
   "outputs": [
    {
     "name": "stdout",
     "output_type": "stream",
     "text": [
      "p-value составил: 0.017\n",
      "Относительный прирост составил: 0.138\n"
     ]
    }
   ],
   "source": [
    "sampleA = pd.concat([ordersByUsersA['orders'],pd.Series(0, index=np.arange(data['visitorsPerDateA'].sum() - \n",
    "                                                          len(ordersByUsersA['orders'])), name='orders')],axis=0)\n",
    "\n",
    "sampleB = pd.concat([ordersByUsersB['orders'],pd.Series(0, index=np.arange(data['visitorsPerDateB'].sum() - \n",
    "                                                     len(ordersByUsersB['orders'])), name='orders')],axis=0)\n",
    "\n",
    "\n",
    "print(\"p-value составил: {0:.3f}\".format(stats.mannwhitneyu(sampleA, sampleB)[1]))\n",
    "      \n",
    "print(\"Относительный прирост составил: {0:.3f}\".format((data['ordersPerDateB'].sum()/data['visitorsPerDateB'].sum())/\n",
    "                       (data['ordersPerDateA'].sum()/data['visitorsPerDateA'].sum())-1))\n",
    "      "
   ]
  },
  {
   "cell_type": "markdown",
   "metadata": {},
   "source": [
    "Первое число — p-value = 0.017, значительно меньше 0.05. Значит, нулевую гипотезу о том, что статистически значимых различий в среднем числе заказов между группами нет - отвергаем. Различия есть\n",
    "\n",
    "А относительный прирост среднего кол-ва заказов группы В к кол-ву группы А составляет 13,8%."
   ]
  },
  {
   "cell_type": "markdown",
   "metadata": {},
   "source": [
    "#### Стат. значимость различий в среднем чеке заказа между группами (сырые)"
   ]
  },
  {
   "cell_type": "markdown",
   "metadata": {},
   "source": [
    "Посчитайте статистическую значимость различий в среднем чеке заказа между группами по «сырым» данным. Сделайте выводы и предположения."
   ]
  },
  {
   "cell_type": "markdown",
   "metadata": {},
   "source": [
    "\n",
    "Нулевая гипотеза: различий в среднем чеке заказа между группами нет. \n",
    "\n",
    "Альтернативная гипотеза: различия есть. \n",
    "    \n",
    "Критический уровень статистической значимости по умолчанию принимаем как 0.05 - самый распространенный уровень, который принимают в тестах\n",
    "    \n",
    "Тестировать будем при помощи непараметрического метода st.mannwhitneyu()\n",
    "\n",
    "</div>"
   ]
  },
  {
   "cell_type": "code",
   "execution_count": 28,
   "metadata": {},
   "outputs": [
    {
     "name": "stdout",
     "output_type": "stream",
     "text": [
      "p-value составил: 0.729\n",
      "Относительный прирост составил: 0.259\n"
     ]
    }
   ],
   "source": [
    "print('p-value составил: {0:.3f}'.format(stats.mannwhitneyu(orders[orders['group']=='A']['revenue'], orders[orders['group']=='B']['revenue'])[1]))\n",
    "print('Относительный прирост составил: {0:.3f}'.format(orders[orders['group']=='B']['revenue'].mean()/orders[orders['group']=='A']['revenue'].mean()-1))\n"
   ]
  },
  {
   "cell_type": "markdown",
   "metadata": {},
   "source": [
    "P-value (0.729) значительно больше 0.05. Значит, причин отвергать нулевую гипотезу и считать, что в среднем чеке есть различия, нет. \n",
    "\n",
    "Хотя, средний чек группы B значительно выше среднего чека группы A (почти на 26%)"
   ]
  },
  {
   "cell_type": "markdown",
   "metadata": {},
   "source": [
    "#### Стат. значимость различий в среднем кол-ве заказов на посетителя между группами (чистые)"
   ]
  },
  {
   "cell_type": "markdown",
   "metadata": {},
   "source": [
    "Посчитайте статистическую значимость различий в среднем количестве заказов на посетителя между группами по «очищенным» данным. Сделайте выводы и предположения."
   ]
  },
  {
   "cell_type": "markdown",
   "metadata": {},
   "source": [
    "\n",
    "Нулевая гипотеза: различий в среднем кол-ве заказов на посетителя между группами нет. \n",
    "\n",
    "Альтернативная гипотеза: различия есть. \n",
    "    \n",
    "Критический уровень статистической значимости по умолчанию принимаем как 0.05 - самый распространенный уровень, который принимают в тестах\n",
    "    \n",
    "Тестировать будем при помощи непараметрического метода st.mannwhitneyu()\n",
    "\n",
    "</div>"
   ]
  },
  {
   "cell_type": "code",
   "execution_count": 29,
   "metadata": {},
   "outputs": [],
   "source": [
    "usersWithManyOrders = pd.concat(\n",
    "    [\n",
    "        ordersByUsersA[ordersByUsersA['orders'] > 2]['userId'],\n",
    "        ordersByUsersB[ordersByUsersB['orders'] > 2]['userId'],\n",
    "    ],\n",
    "    axis=0,\n",
    ")\n",
    "usersWithExpensiveOrders = orders[orders['revenue'] > 30000]['visitorId']\n",
    "abnormalUsers = (\n",
    "    pd.concat([usersWithManyOrders, usersWithExpensiveOrders], axis=0)\n",
    "    .drop_duplicates()\n",
    "    .sort_values()\n",
    ")"
   ]
  },
  {
   "cell_type": "code",
   "execution_count": 30,
   "metadata": {},
   "outputs": [
    {
     "name": "stdout",
     "output_type": "stream",
     "text": [
      "p-value составил: 0.01334\n",
      "Относительный прирост составил: 0.172\n"
     ]
    }
   ],
   "source": [
    "sampleAFiltered = pd.concat(\n",
    "    [\n",
    "        ordersByUsersA[\n",
    "            np.logical_not(ordersByUsersA['userId'].isin(abnormalUsers))\n",
    "        ]['orders'],\n",
    "        pd.Series(\n",
    "            0,\n",
    "            index=np.arange(\n",
    "                data['visitorsPerDateA'].sum() - len(ordersByUsersA['orders'])\n",
    "            ),\n",
    "            name='orders',\n",
    "        ),\n",
    "    ],\n",
    "    axis=0,\n",
    ")\n",
    "\n",
    "sampleBFiltered = pd.concat(\n",
    "    [\n",
    "        ordersByUsersB[\n",
    "            np.logical_not(ordersByUsersB['userId'].isin(abnormalUsers))\n",
    "        ]['orders'],\n",
    "        pd.Series(\n",
    "            0,\n",
    "            index=np.arange(\n",
    "                data['visitorsPerDateB'].sum() - len(ordersByUsersB['orders'])\n",
    "            ),\n",
    "            name='orders',\n",
    "        ),\n",
    "    ],\n",
    "    axis=0,\n",
    ")\n",
    "print('p-value составил: {0:.5f}'.format(stats.mannwhitneyu(sampleAFiltered, sampleBFiltered)[1]))\n",
    "print('Относительный прирост составил: {0:.3f}'.format(sampleBFiltered.mean()/sampleAFiltered.mean()-1))"
   ]
  },
  {
   "cell_type": "code",
   "execution_count": 31,
   "metadata": {},
   "outputs": [
    {
     "name": "stdout",
     "output_type": "stream",
     "text": [
      "Кол-во аномальных пользователей: 68\n",
      "5.68%\n"
     ]
    }
   ],
   "source": [
    "print(\"Кол-во аномальных пользователей:\", abnormalUsers.shape[0]) \n",
    "\n",
    "print('{0:.2%}'.format(abnormalUsers.shape[0] / orders.shape[0]))"
   ]
  },
  {
   "cell_type": "markdown",
   "metadata": {},
   "source": [
    "\n",
    "Аномальные пользователи составили 68 шт, или чуть более 5% -  их отсеивание не слишком критично, т.к. маленькая доля от популяции\n",
    "\n",
    "</div>"
   ]
  },
  {
   "cell_type": "markdown",
   "metadata": {},
   "source": [
    "Результат по чистым данным так же показывает , что нулевую гипотезу о том, что статистически значимых различий в среднем числе заказов между группами нет - отвергаем. Различия есть\n",
    "\n",
    "Показатель группы В все так же выше группы А - на 17%."
   ]
  },
  {
   "cell_type": "markdown",
   "metadata": {},
   "source": [
    "#### Стат. значимость различий в среднем чеке заказа между группами (чистые)"
   ]
  },
  {
   "cell_type": "markdown",
   "metadata": {},
   "source": [
    "Посчитайте статистическую значимость различий в среднем чеке заказа между группами по «очищенным» данным. Сделайте выводы и предположения."
   ]
  },
  {
   "cell_type": "markdown",
   "metadata": {},
   "source": [
    "\n",
    "Нулевая гипотеза: различий в среднем чеке заказа между группами нет. \n",
    "\n",
    "Альтернативная гипотеза: различия есть. \n",
    "    \n",
    "Критический уровень статистической значимости по умолчанию принимаем как 0.05 - самый распространенный уровень, который принимают в тестах\n",
    "    \n",
    "Тестировать будем при помощи непараметрического метода st.mannwhitneyu()\n",
    "\n",
    "</div>"
   ]
  },
  {
   "cell_type": "code",
   "execution_count": 32,
   "metadata": {},
   "outputs": [
    {
     "name": "stdout",
     "output_type": "stream",
     "text": [
      "P-value составил: 0.720\n",
      "Относительный прирост составил: -0.023\n"
     ]
    }
   ],
   "source": [
    "print(\n",
    "    'P-value составил: {0:.3f}'.format(\n",
    "        stats.mannwhitneyu(\n",
    "            orders[\n",
    "                np.logical_and(\n",
    "                    orders['group'] == 'A',\n",
    "                    np.logical_not(orders['visitorId'].isin(abnormalUsers)),\n",
    "                )\n",
    "            ]['revenue'],\n",
    "            orders[\n",
    "                np.logical_and(\n",
    "                    orders['group'] == 'B',\n",
    "                    np.logical_not(orders['visitorId'].isin(abnormalUsers)),\n",
    "                )\n",
    "            ]['revenue'],\n",
    "        )[1]\n",
    "    )\n",
    ")\n",
    "\n",
    "print(\n",
    "    \"Относительный прирост составил: {0:.3f}\".format(\n",
    "        orders[\n",
    "            np.logical_and(\n",
    "                orders['group'] == 'B',\n",
    "                np.logical_not(orders['visitorId'].isin(abnormalUsers)),\n",
    "            )\n",
    "        ]['revenue'].mean()\n",
    "        / orders[\n",
    "            np.logical_and(\n",
    "                orders['group'] == 'A',\n",
    "                np.logical_not(orders['visitorId'].isin(abnormalUsers)),\n",
    "            )\n",
    "        ]['revenue'].mean()\n",
    "        - 1\n",
    "    )\n",
    ")"
   ]
  },
  {
   "cell_type": "markdown",
   "metadata": {},
   "source": [
    "P-value (0.729) значительно больше 0.05. Значит, причин отвергать нулевую гипотезу и считать, что в среднем чеке есть различия, нет - считаем, что различий нет. Это показывает и второй наш показатель - разница между чеками сократилась - очищенные данные показывают, что чек группы В немного ниже стал, чем у группы А."
   ]
  },
  {
   "cell_type": "markdown",
   "metadata": {},
   "source": [
    "#### Результаты А/В теста"
   ]
  },
  {
   "cell_type": "markdown",
   "metadata": {},
   "source": [
    "Примите решение по результатам теста и объясните его. Варианты решений:\n",
    "1. Остановить тест, зафиксировать победу одной из групп.\n",
    "2. Остановить тест, зафиксировать отсутствие различий между группами.\n",
    "3. Продолжить тест."
   ]
  },
  {
   "cell_type": "markdown",
   "metadata": {},
   "source": [
    "Результаты у нас следующие:\n",
    "\n",
    "1) Статистически значимое различие по среднему количеству заказов между группами есть и по «сырым», и по данным после фильтрации аномалий;\n",
    "\n",
    "2) Нет статистически значимого различия по среднему чеку между группами ни по «сырым», ни по данным после фильтрации аномалий;\n",
    "\n",
    "3) График различия среднего количества заказов между группами сообщает, что результаты группы А хуже группы В и нет значительной тенденции к улучшению: группа В продолжает держать лидирующую позицию на уровне 20% по сравнению с группой А;\n",
    "\n",
    "4) График различия среднего чека говорит о том, что результаты группы B намного выше, чем у группы А и почти стабильно (было одно понижение в середине августа)\n",
    "\n",
    "Исходя из обнаруженных фактов, тест следует остановить и признать его успешным. Показатели группы В намного успешнее, чем показатели группы А\n",
    "    "
   ]
  },
  {
   "cell_type": "markdown",
   "metadata": {},
   "source": [
    "**Общий вывод:**\n",
    "\n",
    "**1)** ***Саммэри по данным***:\n",
    "\n",
    "- исправила тип данных в колонках\n",
    "- проверила данные на наличие пропусков\n",
    "- проверила данные на наличие дубликатов\n",
    "\n",
    "Благодарю за качественно подготовленные данные.\n",
    "\n",
    "**2)** ***Исследование***:\n",
    " - проанализировала имеющиеся гипотезы методами RICE и ICE. Т.к. метод RICE является более подробным, то считаю, что стоит попробовать тестирование гипотез 7, 2, 0 и 6.\n",
    " - визуализировала данные, которые показали: кумулятивна явыручка, средний чек, среднее кол-во заказов на покупателя - выше у группы В\n",
    " - определила аномальные значения: кол-во заказов более 2 и сумма заказов более 30 000 руб - в дальнейшем очищаю данные от них\n",
    " - результаты А/В теста показали, что группа В победила, т.к. среднее кол-во закзаов и средний чек намного выше (посмотрели по графикам)\n",
    " \n",
    " Таким образом, считаю, что стоит попробовать тестирование гипотез 7, 2, 0 и 6. И принять А/В тест успешным с победой группы В.\n",
    " \n"
   ]
  }
 ],
 "metadata": {
  "ExecuteTimeLog": [
   {
    "duration": 755,
    "start_time": "2024-06-17T07:46:36.878Z"
   },
   {
    "duration": 81,
    "start_time": "2024-06-17T07:47:47.195Z"
   },
   {
    "duration": 30,
    "start_time": "2024-06-17T07:48:00.766Z"
   },
   {
    "duration": 33,
    "start_time": "2024-06-17T07:48:17.750Z"
   },
   {
    "duration": 3,
    "start_time": "2024-06-17T08:03:07.830Z"
   },
   {
    "duration": 33,
    "start_time": "2024-06-17T08:03:08.185Z"
   },
   {
    "duration": 10,
    "start_time": "2024-06-17T08:11:23.944Z"
   },
   {
    "duration": 8,
    "start_time": "2024-06-17T08:11:49.679Z"
   },
   {
    "duration": 13,
    "start_time": "2024-06-17T08:12:33.780Z"
   },
   {
    "duration": 9,
    "start_time": "2024-06-17T08:14:07.627Z"
   },
   {
    "duration": 9,
    "start_time": "2024-06-17T08:14:17.365Z"
   },
   {
    "duration": 5,
    "start_time": "2024-06-17T08:14:41.176Z"
   },
   {
    "duration": 5,
    "start_time": "2024-06-17T08:19:01.269Z"
   },
   {
    "duration": 11,
    "start_time": "2024-06-17T08:20:10.982Z"
   },
   {
    "duration": 14,
    "start_time": "2024-06-17T08:23:12.126Z"
   },
   {
    "duration": 10,
    "start_time": "2024-06-17T08:23:28.843Z"
   },
   {
    "duration": 15,
    "start_time": "2024-06-17T08:23:34.837Z"
   },
   {
    "duration": 754,
    "start_time": "2024-06-17T08:59:41.845Z"
   },
   {
    "duration": 77,
    "start_time": "2024-06-17T08:59:42.601Z"
   },
   {
    "duration": 116,
    "start_time": "2024-06-17T08:59:44.318Z"
   },
   {
    "duration": 347,
    "start_time": "2024-06-17T09:00:25.699Z"
   },
   {
    "duration": 3545,
    "start_time": "2024-06-17T09:00:50.277Z"
   },
   {
    "duration": 17,
    "start_time": "2024-06-17T09:01:04.770Z"
   },
   {
    "duration": 299,
    "start_time": "2024-06-17T09:01:12.379Z"
   },
   {
    "duration": 503,
    "start_time": "2024-06-17T09:01:23.923Z"
   },
   {
    "duration": 12,
    "start_time": "2024-06-17T09:01:43.837Z"
   },
   {
    "duration": 18,
    "start_time": "2024-06-17T09:03:35.235Z"
   },
   {
    "duration": 12,
    "start_time": "2024-06-17T09:03:53.651Z"
   },
   {
    "duration": 19,
    "start_time": "2024-06-17T09:04:08.509Z"
   },
   {
    "duration": 97,
    "start_time": "2024-06-17T09:06:08.778Z"
   },
   {
    "duration": 657,
    "start_time": "2024-06-17T09:07:42.873Z"
   },
   {
    "duration": 35,
    "start_time": "2024-06-17T09:07:43.532Z"
   },
   {
    "duration": 57,
    "start_time": "2024-06-17T09:07:43.569Z"
   },
   {
    "duration": 2,
    "start_time": "2024-06-17T09:07:43.628Z"
   },
   {
    "duration": 26,
    "start_time": "2024-06-17T09:07:43.632Z"
   },
   {
    "duration": 2,
    "start_time": "2024-06-17T09:07:43.660Z"
   },
   {
    "duration": 30,
    "start_time": "2024-06-17T09:07:43.663Z"
   },
   {
    "duration": 12,
    "start_time": "2024-06-17T09:08:20.740Z"
   },
   {
    "duration": 11,
    "start_time": "2024-06-17T09:08:24.146Z"
   },
   {
    "duration": 31,
    "start_time": "2024-06-17T09:10:46.521Z"
   },
   {
    "duration": 13,
    "start_time": "2024-06-17T09:14:36.169Z"
   },
   {
    "duration": 17,
    "start_time": "2024-06-17T09:15:05.426Z"
   },
   {
    "duration": 634,
    "start_time": "2024-06-17T09:15:27.899Z"
   },
   {
    "duration": 34,
    "start_time": "2024-06-17T09:15:28.534Z"
   },
   {
    "duration": 60,
    "start_time": "2024-06-17T09:15:28.569Z"
   },
   {
    "duration": 21,
    "start_time": "2024-06-17T09:15:28.630Z"
   },
   {
    "duration": 2,
    "start_time": "2024-06-17T09:15:28.653Z"
   },
   {
    "duration": 23,
    "start_time": "2024-06-17T09:15:28.657Z"
   },
   {
    "duration": 37,
    "start_time": "2024-06-17T09:15:28.682Z"
   },
   {
    "duration": 26,
    "start_time": "2024-06-17T09:15:28.720Z"
   },
   {
    "duration": 17,
    "start_time": "2024-06-17T09:15:28.748Z"
   },
   {
    "duration": 656,
    "start_time": "2024-06-17T09:19:09.638Z"
   },
   {
    "duration": 43,
    "start_time": "2024-06-17T09:19:10.296Z"
   },
   {
    "duration": 48,
    "start_time": "2024-06-17T09:19:10.341Z"
   },
   {
    "duration": 30,
    "start_time": "2024-06-17T09:19:10.391Z"
   },
   {
    "duration": 3,
    "start_time": "2024-06-17T09:19:10.422Z"
   },
   {
    "duration": 19,
    "start_time": "2024-06-17T09:19:10.427Z"
   },
   {
    "duration": 10,
    "start_time": "2024-06-17T09:19:10.448Z"
   },
   {
    "duration": 28,
    "start_time": "2024-06-17T09:19:10.460Z"
   },
   {
    "duration": 28,
    "start_time": "2024-06-17T09:19:10.489Z"
   },
   {
    "duration": 4,
    "start_time": "2024-06-17T09:20:52.172Z"
   },
   {
    "duration": 56,
    "start_time": "2024-06-17T09:20:52.179Z"
   },
   {
    "duration": 50,
    "start_time": "2024-06-17T09:20:52.236Z"
   },
   {
    "duration": 33,
    "start_time": "2024-06-17T09:20:52.288Z"
   },
   {
    "duration": 3,
    "start_time": "2024-06-17T09:20:52.322Z"
   },
   {
    "duration": 17,
    "start_time": "2024-06-17T09:20:52.326Z"
   },
   {
    "duration": 10,
    "start_time": "2024-06-17T09:20:52.344Z"
   },
   {
    "duration": 30,
    "start_time": "2024-06-17T09:20:52.355Z"
   },
   {
    "duration": 33,
    "start_time": "2024-06-17T09:20:52.387Z"
   },
   {
    "duration": 90,
    "start_time": "2024-06-17T09:20:52.423Z"
   },
   {
    "duration": 29,
    "start_time": "2024-06-17T09:21:10.751Z"
   },
   {
    "duration": 608,
    "start_time": "2024-06-17T09:21:35.407Z"
   },
   {
    "duration": 34,
    "start_time": "2024-06-17T09:21:36.021Z"
   },
   {
    "duration": 62,
    "start_time": "2024-06-17T09:21:36.057Z"
   },
   {
    "duration": 21,
    "start_time": "2024-06-17T09:21:36.121Z"
   },
   {
    "duration": 3,
    "start_time": "2024-06-17T09:21:36.144Z"
   },
   {
    "duration": 27,
    "start_time": "2024-06-17T09:21:36.148Z"
   },
   {
    "duration": 59,
    "start_time": "2024-06-17T09:21:36.177Z"
   },
   {
    "duration": 40,
    "start_time": "2024-06-17T09:21:36.238Z"
   },
   {
    "duration": 34,
    "start_time": "2024-06-17T09:21:36.279Z"
   },
   {
    "duration": 99,
    "start_time": "2024-06-17T09:21:36.321Z"
   },
   {
    "duration": 537,
    "start_time": "2024-06-17T09:23:07.197Z"
   },
   {
    "duration": 404,
    "start_time": "2024-06-17T09:24:41.127Z"
   },
   {
    "duration": 401,
    "start_time": "2024-06-17T09:26:36.534Z"
   },
   {
    "duration": 437,
    "start_time": "2024-06-17T09:28:14.283Z"
   },
   {
    "duration": 376,
    "start_time": "2024-06-17T09:32:30.604Z"
   },
   {
    "duration": 390,
    "start_time": "2024-06-17T09:35:41.928Z"
   },
   {
    "duration": 138,
    "start_time": "2024-06-17T09:37:49.095Z"
   },
   {
    "duration": 145,
    "start_time": "2024-06-17T09:37:59.761Z"
   },
   {
    "duration": 152,
    "start_time": "2024-06-17T09:38:24.287Z"
   },
   {
    "duration": 253,
    "start_time": "2024-06-17T09:43:49.130Z"
   },
   {
    "duration": 276,
    "start_time": "2024-06-17T09:44:03.293Z"
   },
   {
    "duration": 219,
    "start_time": "2024-06-17T09:44:08.941Z"
   },
   {
    "duration": 275,
    "start_time": "2024-06-17T09:44:44.967Z"
   },
   {
    "duration": 151,
    "start_time": "2024-06-17T09:51:22.079Z"
   },
   {
    "duration": 199,
    "start_time": "2024-06-17T09:51:29.021Z"
   },
   {
    "duration": 177,
    "start_time": "2024-06-17T09:52:12.872Z"
   },
   {
    "duration": 164,
    "start_time": "2024-06-17T09:52:48.224Z"
   },
   {
    "duration": 162,
    "start_time": "2024-06-17T09:54:56.856Z"
   },
   {
    "duration": 312,
    "start_time": "2024-06-17T11:54:48.982Z"
   },
   {
    "duration": 258,
    "start_time": "2024-06-17T11:55:53.048Z"
   },
   {
    "duration": 260,
    "start_time": "2024-06-17T11:57:13.229Z"
   },
   {
    "duration": 300,
    "start_time": "2024-06-17T11:57:17.182Z"
   },
   {
    "duration": 313,
    "start_time": "2024-06-17T11:57:43.145Z"
   },
   {
    "duration": 309,
    "start_time": "2024-06-17T11:58:00.188Z"
   },
   {
    "duration": 310,
    "start_time": "2024-06-17T11:58:15.181Z"
   },
   {
    "duration": 303,
    "start_time": "2024-06-17T12:00:58.487Z"
   },
   {
    "duration": 8,
    "start_time": "2024-06-17T12:03:17.484Z"
   },
   {
    "duration": 10,
    "start_time": "2024-06-17T12:04:50.400Z"
   },
   {
    "duration": 13,
    "start_time": "2024-06-17T12:05:33.586Z"
   },
   {
    "duration": 87,
    "start_time": "2024-06-17T12:06:09.398Z"
   },
   {
    "duration": 85,
    "start_time": "2024-06-17T12:06:16.727Z"
   },
   {
    "duration": 124,
    "start_time": "2024-06-17T12:06:49.899Z"
   },
   {
    "duration": 114,
    "start_time": "2024-06-17T12:08:11.314Z"
   },
   {
    "duration": 133,
    "start_time": "2024-06-17T12:08:16.040Z"
   },
   {
    "duration": 4,
    "start_time": "2024-06-17T12:12:12.444Z"
   },
   {
    "duration": 8,
    "start_time": "2024-06-17T12:19:03.158Z"
   },
   {
    "duration": 105,
    "start_time": "2024-06-17T12:19:14.621Z"
   },
   {
    "duration": 97,
    "start_time": "2024-06-17T12:20:26.237Z"
   },
   {
    "duration": 555,
    "start_time": "2024-06-17T12:21:38.705Z"
   },
   {
    "duration": 32,
    "start_time": "2024-06-17T12:21:39.262Z"
   },
   {
    "duration": 47,
    "start_time": "2024-06-17T12:21:39.296Z"
   },
   {
    "duration": 23,
    "start_time": "2024-06-17T12:21:39.344Z"
   },
   {
    "duration": 3,
    "start_time": "2024-06-17T12:21:39.369Z"
   },
   {
    "duration": 43,
    "start_time": "2024-06-17T12:21:39.374Z"
   },
   {
    "duration": 28,
    "start_time": "2024-06-17T12:21:39.418Z"
   },
   {
    "duration": 98,
    "start_time": "2024-06-17T12:21:39.447Z"
   },
   {
    "duration": 29,
    "start_time": "2024-06-17T12:21:39.547Z"
   },
   {
    "duration": 470,
    "start_time": "2024-06-17T12:21:39.578Z"
   },
   {
    "duration": 165,
    "start_time": "2024-06-17T12:21:40.049Z"
   },
   {
    "duration": 290,
    "start_time": "2024-06-17T12:21:40.216Z"
   },
   {
    "duration": 196,
    "start_time": "2024-06-17T12:21:40.508Z"
   },
   {
    "duration": 276,
    "start_time": "2024-06-17T12:21:40.707Z"
   },
   {
    "duration": 115,
    "start_time": "2024-06-17T12:21:40.984Z"
   },
   {
    "duration": 28,
    "start_time": "2024-06-17T12:21:41.101Z"
   },
   {
    "duration": 164,
    "start_time": "2024-06-17T12:21:41.131Z"
   },
   {
    "duration": 113,
    "start_time": "2024-06-17T12:22:01.949Z"
   },
   {
    "duration": 110,
    "start_time": "2024-06-17T12:23:15.259Z"
   },
   {
    "duration": 4,
    "start_time": "2024-06-17T12:26:57.047Z"
   },
   {
    "duration": 41,
    "start_time": "2024-06-17T12:31:02.704Z"
   },
   {
    "duration": 3,
    "start_time": "2024-06-17T12:31:14.116Z"
   },
   {
    "duration": 149,
    "start_time": "2024-06-17T13:06:31.537Z"
   },
   {
    "duration": 99,
    "start_time": "2024-06-17T13:09:35.942Z"
   },
   {
    "duration": 1209,
    "start_time": "2024-06-17T13:10:25.364Z"
   },
   {
    "duration": 1388,
    "start_time": "2024-06-17T13:12:30.837Z"
   },
   {
    "duration": 1342,
    "start_time": "2024-06-17T13:13:31.315Z"
   },
   {
    "duration": 1316,
    "start_time": "2024-06-17T13:20:37.698Z"
   },
   {
    "duration": 351,
    "start_time": "2024-06-17T13:21:19.828Z"
   },
   {
    "duration": 955,
    "start_time": "2024-06-17T13:22:06.547Z"
   },
   {
    "duration": 33,
    "start_time": "2024-06-17T13:22:07.504Z"
   },
   {
    "duration": 49,
    "start_time": "2024-06-17T13:22:07.539Z"
   },
   {
    "duration": 21,
    "start_time": "2024-06-17T13:22:07.590Z"
   },
   {
    "duration": 4,
    "start_time": "2024-06-17T13:22:07.613Z"
   },
   {
    "duration": 28,
    "start_time": "2024-06-17T13:22:07.618Z"
   },
   {
    "duration": 22,
    "start_time": "2024-06-17T13:22:07.647Z"
   },
   {
    "duration": 13,
    "start_time": "2024-06-17T13:22:07.670Z"
   },
   {
    "duration": 22,
    "start_time": "2024-06-17T13:22:07.685Z"
   },
   {
    "duration": 470,
    "start_time": "2024-06-17T13:22:07.710Z"
   },
   {
    "duration": 164,
    "start_time": "2024-06-17T13:22:08.181Z"
   },
   {
    "duration": 244,
    "start_time": "2024-06-17T13:22:08.346Z"
   },
   {
    "duration": 186,
    "start_time": "2024-06-17T13:22:08.591Z"
   },
   {
    "duration": 302,
    "start_time": "2024-06-17T13:22:08.779Z"
   },
   {
    "duration": 136,
    "start_time": "2024-06-17T13:22:09.083Z"
   },
   {
    "duration": 5,
    "start_time": "2024-06-17T13:22:09.221Z"
   },
   {
    "duration": 137,
    "start_time": "2024-06-17T13:22:09.228Z"
   },
   {
    "duration": 5,
    "start_time": "2024-06-17T13:22:09.366Z"
   },
   {
    "duration": 111,
    "start_time": "2024-06-17T13:22:09.372Z"
   },
   {
    "duration": 0,
    "start_time": "2024-06-17T13:22:09.485Z"
   },
   {
    "duration": 284,
    "start_time": "2024-06-17T13:22:26.434Z"
   },
   {
    "duration": 412,
    "start_time": "2024-06-17T13:24:47.268Z"
   },
   {
    "duration": 346,
    "start_time": "2024-06-17T13:34:58.818Z"
   },
   {
    "duration": 317,
    "start_time": "2024-06-17T13:37:03.778Z"
   },
   {
    "duration": 306,
    "start_time": "2024-06-17T13:37:43.034Z"
   },
   {
    "duration": 53,
    "start_time": "2024-06-18T05:41:24.722Z"
   },
   {
    "duration": 1438,
    "start_time": "2024-06-18T05:41:32.567Z"
   },
   {
    "duration": 84,
    "start_time": "2024-06-18T05:41:34.007Z"
   },
   {
    "duration": 84,
    "start_time": "2024-06-18T05:41:34.093Z"
   },
   {
    "duration": 62,
    "start_time": "2024-06-18T05:41:34.179Z"
   },
   {
    "duration": 3,
    "start_time": "2024-06-18T05:41:34.243Z"
   },
   {
    "duration": 19,
    "start_time": "2024-06-18T05:41:34.248Z"
   },
   {
    "duration": 13,
    "start_time": "2024-06-18T05:41:34.268Z"
   },
   {
    "duration": 43,
    "start_time": "2024-06-18T05:41:34.283Z"
   },
   {
    "duration": 14,
    "start_time": "2024-06-18T05:41:34.328Z"
   },
   {
    "duration": 593,
    "start_time": "2024-06-18T05:41:34.344Z"
   },
   {
    "duration": 207,
    "start_time": "2024-06-18T05:41:34.938Z"
   },
   {
    "duration": 408,
    "start_time": "2024-06-18T05:41:35.148Z"
   },
   {
    "duration": 209,
    "start_time": "2024-06-18T05:41:35.558Z"
   },
   {
    "duration": 333,
    "start_time": "2024-06-18T05:41:35.770Z"
   },
   {
    "duration": 137,
    "start_time": "2024-06-18T05:41:36.105Z"
   },
   {
    "duration": 4,
    "start_time": "2024-06-18T05:41:36.244Z"
   },
   {
    "duration": 156,
    "start_time": "2024-06-18T05:41:36.249Z"
   },
   {
    "duration": 4,
    "start_time": "2024-06-18T05:41:36.406Z"
   },
   {
    "duration": 424,
    "start_time": "2024-06-18T05:41:36.412Z"
   },
   {
    "duration": 120,
    "start_time": "2024-06-18T05:41:36.838Z"
   },
   {
    "duration": 0,
    "start_time": "2024-06-18T05:41:36.960Z"
   },
   {
    "duration": 13,
    "start_time": "2024-06-18T05:41:45.966Z"
   },
   {
    "duration": 422,
    "start_time": "2024-06-18T05:50:32.476Z"
   },
   {
    "duration": 11,
    "start_time": "2024-06-18T05:53:32.226Z"
   },
   {
    "duration": 34,
    "start_time": "2024-06-18T05:55:55.735Z"
   },
   {
    "duration": 999,
    "start_time": "2024-06-18T05:59:31.605Z"
   },
   {
    "duration": 14,
    "start_time": "2024-06-18T05:59:57.214Z"
   },
   {
    "duration": 1134,
    "start_time": "2024-06-18T06:07:25.245Z"
   },
   {
    "duration": 33,
    "start_time": "2024-06-18T06:07:26.381Z"
   },
   {
    "duration": 46,
    "start_time": "2024-06-18T06:07:26.415Z"
   },
   {
    "duration": 21,
    "start_time": "2024-06-18T06:07:26.463Z"
   },
   {
    "duration": 3,
    "start_time": "2024-06-18T06:07:26.486Z"
   },
   {
    "duration": 17,
    "start_time": "2024-06-18T06:07:26.491Z"
   },
   {
    "duration": 14,
    "start_time": "2024-06-18T06:07:26.509Z"
   },
   {
    "duration": 18,
    "start_time": "2024-06-18T06:07:26.525Z"
   },
   {
    "duration": 12,
    "start_time": "2024-06-18T06:07:26.545Z"
   },
   {
    "duration": 579,
    "start_time": "2024-06-18T06:07:26.559Z"
   },
   {
    "duration": 202,
    "start_time": "2024-06-18T06:07:27.139Z"
   },
   {
    "duration": 299,
    "start_time": "2024-06-18T06:07:27.343Z"
   },
   {
    "duration": 238,
    "start_time": "2024-06-18T06:07:27.644Z"
   },
   {
    "duration": 343,
    "start_time": "2024-06-18T06:07:27.885Z"
   },
   {
    "duration": 133,
    "start_time": "2024-06-18T06:07:28.230Z"
   },
   {
    "duration": 4,
    "start_time": "2024-06-18T06:07:28.365Z"
   },
   {
    "duration": 152,
    "start_time": "2024-06-18T06:07:28.371Z"
   },
   {
    "duration": 4,
    "start_time": "2024-06-18T06:07:28.525Z"
   },
   {
    "duration": 377,
    "start_time": "2024-06-18T06:07:28.530Z"
   },
   {
    "duration": 10,
    "start_time": "2024-06-18T06:07:28.909Z"
   },
   {
    "duration": 34,
    "start_time": "2024-06-18T06:07:28.921Z"
   },
   {
    "duration": 39,
    "start_time": "2024-06-18T06:07:28.956Z"
   },
   {
    "duration": 1270,
    "start_time": "2024-06-18T12:37:02.124Z"
   },
   {
    "duration": 76,
    "start_time": "2024-06-18T12:37:03.396Z"
   },
   {
    "duration": 97,
    "start_time": "2024-06-18T12:37:03.473Z"
   },
   {
    "duration": 71,
    "start_time": "2024-06-18T12:37:03.572Z"
   },
   {
    "duration": 3,
    "start_time": "2024-06-18T12:37:03.645Z"
   },
   {
    "duration": 32,
    "start_time": "2024-06-18T12:37:03.649Z"
   },
   {
    "duration": 23,
    "start_time": "2024-06-18T12:37:03.682Z"
   },
   {
    "duration": 17,
    "start_time": "2024-06-18T12:37:03.707Z"
   },
   {
    "duration": 16,
    "start_time": "2024-06-18T12:37:03.726Z"
   },
   {
    "duration": 542,
    "start_time": "2024-06-18T12:37:03.745Z"
   },
   {
    "duration": 187,
    "start_time": "2024-06-18T12:37:04.289Z"
   },
   {
    "duration": 305,
    "start_time": "2024-06-18T12:37:04.478Z"
   },
   {
    "duration": 183,
    "start_time": "2024-06-18T12:37:04.785Z"
   },
   {
    "duration": 283,
    "start_time": "2024-06-18T12:37:04.970Z"
   },
   {
    "duration": 139,
    "start_time": "2024-06-18T12:37:05.255Z"
   },
   {
    "duration": 4,
    "start_time": "2024-06-18T12:37:05.395Z"
   },
   {
    "duration": 170,
    "start_time": "2024-06-18T12:37:05.401Z"
   },
   {
    "duration": 3,
    "start_time": "2024-06-18T12:37:05.573Z"
   },
   {
    "duration": 368,
    "start_time": "2024-06-18T12:37:05.578Z"
   },
   {
    "duration": 9,
    "start_time": "2024-06-18T12:37:05.947Z"
   },
   {
    "duration": 42,
    "start_time": "2024-06-18T12:37:05.958Z"
   },
   {
    "duration": 52,
    "start_time": "2024-06-18T12:37:06.002Z"
   },
   {
    "duration": 1012,
    "start_time": "2024-06-18T13:39:58.919Z"
   },
   {
    "duration": 82,
    "start_time": "2024-06-18T13:39:59.932Z"
   },
   {
    "duration": 85,
    "start_time": "2024-06-18T13:40:00.015Z"
   },
   {
    "duration": 60,
    "start_time": "2024-06-18T13:40:00.102Z"
   },
   {
    "duration": 3,
    "start_time": "2024-06-18T13:40:00.164Z"
   },
   {
    "duration": 84,
    "start_time": "2024-06-18T13:40:00.168Z"
   },
   {
    "duration": 58,
    "start_time": "2024-06-18T13:40:00.253Z"
   },
   {
    "duration": 40,
    "start_time": "2024-06-18T13:40:00.312Z"
   },
   {
    "duration": 24,
    "start_time": "2024-06-18T13:40:00.353Z"
   },
   {
    "duration": 492,
    "start_time": "2024-06-18T13:40:00.379Z"
   },
   {
    "duration": 177,
    "start_time": "2024-06-18T13:40:00.873Z"
   },
   {
    "duration": 259,
    "start_time": "2024-06-18T13:40:01.052Z"
   },
   {
    "duration": 200,
    "start_time": "2024-06-18T13:40:01.312Z"
   },
   {
    "duration": 295,
    "start_time": "2024-06-18T13:40:01.514Z"
   },
   {
    "duration": 123,
    "start_time": "2024-06-18T13:40:01.811Z"
   },
   {
    "duration": 84,
    "start_time": "2024-06-18T13:40:01.935Z"
   },
   {
    "duration": 259,
    "start_time": "2024-06-18T13:40:02.020Z"
   },
   {
    "duration": 144,
    "start_time": "2024-06-18T13:40:02.281Z"
   },
   {
    "duration": 358,
    "start_time": "2024-06-18T13:40:02.426Z"
   },
   {
    "duration": 9,
    "start_time": "2024-06-18T13:40:02.785Z"
   },
   {
    "duration": 61,
    "start_time": "2024-06-18T13:40:02.795Z"
   },
   {
    "duration": 52,
    "start_time": "2024-06-18T13:40:02.858Z"
   },
   {
    "duration": 979,
    "start_time": "2024-06-18T14:09:07.264Z"
   },
   {
    "duration": 31,
    "start_time": "2024-06-18T14:09:08.245Z"
   },
   {
    "duration": 40,
    "start_time": "2024-06-18T14:09:08.277Z"
   },
   {
    "duration": 19,
    "start_time": "2024-06-18T14:09:08.318Z"
   },
   {
    "duration": 3,
    "start_time": "2024-06-18T14:09:08.338Z"
   },
   {
    "duration": 17,
    "start_time": "2024-06-18T14:09:08.342Z"
   },
   {
    "duration": 10,
    "start_time": "2024-06-18T14:09:08.360Z"
   },
   {
    "duration": 15,
    "start_time": "2024-06-18T14:09:08.371Z"
   },
   {
    "duration": 10,
    "start_time": "2024-06-18T14:09:08.387Z"
   },
   {
    "duration": 491,
    "start_time": "2024-06-18T14:09:08.410Z"
   },
   {
    "duration": 169,
    "start_time": "2024-06-18T14:09:08.902Z"
   },
   {
    "duration": 271,
    "start_time": "2024-06-18T14:09:09.072Z"
   },
   {
    "duration": 177,
    "start_time": "2024-06-18T14:09:09.345Z"
   },
   {
    "duration": 306,
    "start_time": "2024-06-18T14:09:09.524Z"
   },
   {
    "duration": 122,
    "start_time": "2024-06-18T14:09:09.831Z"
   },
   {
    "duration": 4,
    "start_time": "2024-06-18T14:09:09.955Z"
   },
   {
    "duration": 137,
    "start_time": "2024-06-18T14:09:09.961Z"
   },
   {
    "duration": 4,
    "start_time": "2024-06-18T14:09:10.100Z"
   },
   {
    "duration": 336,
    "start_time": "2024-06-18T14:09:10.105Z"
   },
   {
    "duration": 9,
    "start_time": "2024-06-18T14:09:10.443Z"
   },
   {
    "duration": 44,
    "start_time": "2024-06-18T14:09:10.453Z"
   },
   {
    "duration": 24,
    "start_time": "2024-06-18T14:09:10.498Z"
   },
   {
    "duration": 50,
    "start_time": "2024-06-19T04:07:37.586Z"
   },
   {
    "duration": 1207,
    "start_time": "2024-06-19T04:08:11.938Z"
   },
   {
    "duration": 88,
    "start_time": "2024-06-19T04:08:15.146Z"
   },
   {
    "duration": 95,
    "start_time": "2024-06-19T04:08:18.882Z"
   },
   {
    "duration": 63,
    "start_time": "2024-06-19T04:08:19.159Z"
   },
   {
    "duration": 2,
    "start_time": "2024-06-19T04:08:21.328Z"
   },
   {
    "duration": 12,
    "start_time": "2024-06-19T04:08:22.764Z"
   },
   {
    "duration": 10,
    "start_time": "2024-06-19T04:08:23.057Z"
   },
   {
    "duration": 14,
    "start_time": "2024-06-19T04:08:28.080Z"
   },
   {
    "duration": 11,
    "start_time": "2024-06-19T04:08:38.929Z"
   },
   {
    "duration": 5,
    "start_time": "2024-06-19T04:15:54.257Z"
   },
   {
    "duration": 90,
    "start_time": "2024-06-19T04:16:32.280Z"
   },
   {
    "duration": 6,
    "start_time": "2024-06-19T04:16:37.681Z"
   },
   {
    "duration": 5,
    "start_time": "2024-06-19T04:16:49.691Z"
   },
   {
    "duration": 6,
    "start_time": "2024-06-19T04:17:11.430Z"
   },
   {
    "duration": 6,
    "start_time": "2024-06-19T04:17:23.993Z"
   },
   {
    "duration": 10,
    "start_time": "2024-06-19T04:17:33.311Z"
   },
   {
    "duration": 6,
    "start_time": "2024-06-19T04:18:30.304Z"
   },
   {
    "duration": 11,
    "start_time": "2024-06-19T04:18:34.157Z"
   },
   {
    "duration": 11,
    "start_time": "2024-06-19T04:18:52.902Z"
   },
   {
    "duration": 19,
    "start_time": "2024-06-19T04:19:12.285Z"
   },
   {
    "duration": 16,
    "start_time": "2024-06-19T04:19:15.977Z"
   },
   {
    "duration": 12,
    "start_time": "2024-06-19T04:19:24.963Z"
   },
   {
    "duration": 11,
    "start_time": "2024-06-19T04:19:36.573Z"
   },
   {
    "duration": 10,
    "start_time": "2024-06-19T04:19:42.820Z"
   },
   {
    "duration": 12,
    "start_time": "2024-06-19T04:19:48.254Z"
   },
   {
    "duration": 1005,
    "start_time": "2024-06-19T04:20:19.783Z"
   },
   {
    "duration": 8,
    "start_time": "2024-06-19T04:20:27.880Z"
   },
   {
    "duration": 3,
    "start_time": "2024-06-19T04:24:35.445Z"
   },
   {
    "duration": 1010,
    "start_time": "2024-06-19T04:27:23.322Z"
   },
   {
    "duration": 32,
    "start_time": "2024-06-19T04:27:24.334Z"
   },
   {
    "duration": 41,
    "start_time": "2024-06-19T04:27:24.367Z"
   },
   {
    "duration": 19,
    "start_time": "2024-06-19T04:27:24.409Z"
   },
   {
    "duration": 3,
    "start_time": "2024-06-19T04:27:24.429Z"
   },
   {
    "duration": 15,
    "start_time": "2024-06-19T04:27:24.433Z"
   },
   {
    "duration": 11,
    "start_time": "2024-06-19T04:27:24.449Z"
   },
   {
    "duration": 22,
    "start_time": "2024-06-19T04:27:24.462Z"
   },
   {
    "duration": 18,
    "start_time": "2024-06-19T04:27:24.485Z"
   },
   {
    "duration": 29,
    "start_time": "2024-06-19T04:27:24.505Z"
   },
   {
    "duration": 22,
    "start_time": "2024-06-19T04:27:24.535Z"
   },
   {
    "duration": 465,
    "start_time": "2024-06-19T04:27:24.558Z"
   },
   {
    "duration": 168,
    "start_time": "2024-06-19T04:27:25.024Z"
   },
   {
    "duration": 288,
    "start_time": "2024-06-19T04:27:25.193Z"
   },
   {
    "duration": 169,
    "start_time": "2024-06-19T04:27:25.483Z"
   },
   {
    "duration": 260,
    "start_time": "2024-06-19T04:27:25.653Z"
   },
   {
    "duration": 112,
    "start_time": "2024-06-19T04:27:25.914Z"
   },
   {
    "duration": 4,
    "start_time": "2024-06-19T04:27:26.027Z"
   },
   {
    "duration": 117,
    "start_time": "2024-06-19T04:27:26.032Z"
   },
   {
    "duration": 3,
    "start_time": "2024-06-19T04:27:26.151Z"
   },
   {
    "duration": 340,
    "start_time": "2024-06-19T04:27:26.155Z"
   },
   {
    "duration": 7,
    "start_time": "2024-06-19T04:27:26.497Z"
   },
   {
    "duration": 40,
    "start_time": "2024-06-19T04:27:26.505Z"
   },
   {
    "duration": 11,
    "start_time": "2024-06-19T04:27:26.546Z"
   },
   {
    "duration": 202,
    "start_time": "2024-06-19T04:31:28.235Z"
   },
   {
    "duration": 163,
    "start_time": "2024-06-19T04:31:31.024Z"
   },
   {
    "duration": 131,
    "start_time": "2024-06-19T04:31:44.130Z"
   },
   {
    "duration": 108,
    "start_time": "2024-06-19T04:31:55.239Z"
   },
   {
    "duration": 110,
    "start_time": "2024-06-19T04:32:01.103Z"
   },
   {
    "duration": 115,
    "start_time": "2024-06-19T04:32:23.654Z"
   },
   {
    "duration": 107,
    "start_time": "2024-06-19T04:32:34.014Z"
   },
   {
    "duration": 120,
    "start_time": "2024-06-19T04:32:40.995Z"
   },
   {
    "duration": 81,
    "start_time": "2024-06-19T04:32:47.026Z"
   },
   {
    "duration": 108,
    "start_time": "2024-06-19T04:32:49.386Z"
   },
   {
    "duration": 113,
    "start_time": "2024-06-19T04:35:04.364Z"
   },
   {
    "duration": 121,
    "start_time": "2024-06-19T04:35:16.844Z"
   },
   {
    "duration": 116,
    "start_time": "2024-06-19T04:35:27.223Z"
   },
   {
    "duration": 321,
    "start_time": "2024-06-19T04:40:03.168Z"
   },
   {
    "duration": 304,
    "start_time": "2024-06-19T04:40:20.435Z"
   },
   {
    "duration": 9,
    "start_time": "2024-06-19T04:40:53.800Z"
   },
   {
    "duration": 26,
    "start_time": "2024-06-19T04:41:19.828Z"
   },
   {
    "duration": 11,
    "start_time": "2024-06-19T04:46:56.232Z"
   },
   {
    "duration": 18,
    "start_time": "2024-06-19T04:47:04.137Z"
   },
   {
    "duration": 951,
    "start_time": "2024-06-19T04:51:37.281Z"
   },
   {
    "duration": 33,
    "start_time": "2024-06-19T04:51:38.234Z"
   },
   {
    "duration": 44,
    "start_time": "2024-06-19T04:51:38.269Z"
   },
   {
    "duration": 19,
    "start_time": "2024-06-19T04:51:38.315Z"
   },
   {
    "duration": 2,
    "start_time": "2024-06-19T04:51:38.336Z"
   },
   {
    "duration": 17,
    "start_time": "2024-06-19T04:51:38.339Z"
   },
   {
    "duration": 9,
    "start_time": "2024-06-19T04:51:38.357Z"
   },
   {
    "duration": 23,
    "start_time": "2024-06-19T04:51:38.367Z"
   },
   {
    "duration": 3,
    "start_time": "2024-06-19T04:51:38.391Z"
   },
   {
    "duration": 12,
    "start_time": "2024-06-19T04:51:38.396Z"
   },
   {
    "duration": 15,
    "start_time": "2024-06-19T04:51:38.409Z"
   },
   {
    "duration": 469,
    "start_time": "2024-06-19T04:51:38.425Z"
   },
   {
    "duration": 167,
    "start_time": "2024-06-19T04:51:38.896Z"
   },
   {
    "duration": 258,
    "start_time": "2024-06-19T04:51:39.064Z"
   },
   {
    "duration": 166,
    "start_time": "2024-06-19T04:51:39.323Z"
   },
   {
    "duration": 292,
    "start_time": "2024-06-19T04:51:39.491Z"
   },
   {
    "duration": 112,
    "start_time": "2024-06-19T04:51:39.785Z"
   },
   {
    "duration": 3,
    "start_time": "2024-06-19T04:51:39.899Z"
   },
   {
    "duration": 158,
    "start_time": "2024-06-19T04:51:39.903Z"
   },
   {
    "duration": 4,
    "start_time": "2024-06-19T04:51:40.062Z"
   },
   {
    "duration": 128,
    "start_time": "2024-06-19T04:51:40.120Z"
   },
   {
    "duration": 200,
    "start_time": "2024-06-19T04:51:40.249Z"
   },
   {
    "duration": 70,
    "start_time": "2024-06-19T04:51:40.450Z"
   },
   {
    "duration": 230,
    "start_time": "2024-06-19T04:51:40.521Z"
   },
   {
    "duration": 81,
    "start_time": "2024-06-19T04:51:40.752Z"
   },
   {
    "duration": 8,
    "start_time": "2024-06-19T04:51:40.834Z"
   },
   {
    "duration": 81,
    "start_time": "2024-06-19T04:51:40.843Z"
   },
   {
    "duration": 12,
    "start_time": "2024-06-19T04:51:40.926Z"
   },
   {
    "duration": 11,
    "start_time": "2024-06-19T05:02:05.983Z"
   },
   {
    "duration": 12,
    "start_time": "2024-06-19T05:02:18.662Z"
   },
   {
    "duration": 1026,
    "start_time": "2024-06-19T05:04:42.824Z"
   },
   {
    "duration": 32,
    "start_time": "2024-06-19T05:04:43.852Z"
   },
   {
    "duration": 42,
    "start_time": "2024-06-19T05:04:43.885Z"
   },
   {
    "duration": 20,
    "start_time": "2024-06-19T05:04:43.929Z"
   },
   {
    "duration": 2,
    "start_time": "2024-06-19T05:04:43.951Z"
   },
   {
    "duration": 23,
    "start_time": "2024-06-19T05:04:43.954Z"
   },
   {
    "duration": 17,
    "start_time": "2024-06-19T05:04:43.978Z"
   },
   {
    "duration": 15,
    "start_time": "2024-06-19T05:04:43.997Z"
   },
   {
    "duration": 6,
    "start_time": "2024-06-19T05:04:44.013Z"
   },
   {
    "duration": 19,
    "start_time": "2024-06-19T05:04:44.021Z"
   },
   {
    "duration": 11,
    "start_time": "2024-06-19T05:04:44.041Z"
   },
   {
    "duration": 479,
    "start_time": "2024-06-19T05:04:44.053Z"
   },
   {
    "duration": 164,
    "start_time": "2024-06-19T05:04:44.533Z"
   },
   {
    "duration": 304,
    "start_time": "2024-06-19T05:04:44.698Z"
   },
   {
    "duration": 174,
    "start_time": "2024-06-19T05:04:45.003Z"
   },
   {
    "duration": 272,
    "start_time": "2024-06-19T05:04:45.178Z"
   },
   {
    "duration": 122,
    "start_time": "2024-06-19T05:04:45.452Z"
   },
   {
    "duration": 4,
    "start_time": "2024-06-19T05:04:45.575Z"
   },
   {
    "duration": 135,
    "start_time": "2024-06-19T05:04:45.580Z"
   },
   {
    "duration": 5,
    "start_time": "2024-06-19T05:04:45.716Z"
   },
   {
    "duration": 72,
    "start_time": "2024-06-19T05:04:45.722Z"
   },
   {
    "duration": 124,
    "start_time": "2024-06-19T05:04:45.796Z"
   },
   {
    "duration": 18,
    "start_time": "2024-06-19T05:04:45.922Z"
   },
   {
    "duration": 142,
    "start_time": "2024-06-19T05:04:45.941Z"
   },
   {
    "duration": 37,
    "start_time": "2024-06-19T05:04:46.085Z"
   },
   {
    "duration": 8,
    "start_time": "2024-06-19T05:04:46.124Z"
   },
   {
    "duration": 26,
    "start_time": "2024-06-19T05:04:46.134Z"
   },
   {
    "duration": 11,
    "start_time": "2024-06-19T05:04:46.163Z"
   },
   {
    "duration": 3,
    "start_time": "2024-06-19T05:07:09.765Z"
   },
   {
    "duration": 3,
    "start_time": "2024-06-19T05:07:45.545Z"
   },
   {
    "duration": 2,
    "start_time": "2024-06-19T05:07:49.647Z"
   },
   {
    "duration": 3,
    "start_time": "2024-06-19T05:09:50.464Z"
   },
   {
    "duration": 61,
    "start_time": "2024-06-19T05:09:57.797Z"
   },
   {
    "duration": 3,
    "start_time": "2024-06-19T05:10:00.737Z"
   },
   {
    "duration": 3,
    "start_time": "2024-06-19T05:10:13.545Z"
   },
   {
    "duration": 29,
    "start_time": "2024-06-19T05:10:38.435Z"
   },
   {
    "duration": 86,
    "start_time": "2024-06-19T05:11:20.524Z"
   },
   {
    "duration": 56,
    "start_time": "2024-06-19T05:11:33.937Z"
   },
   {
    "duration": 4,
    "start_time": "2024-06-19T05:11:45.829Z"
   },
   {
    "duration": 87,
    "start_time": "2024-06-19T05:11:51.025Z"
   },
   {
    "duration": 7,
    "start_time": "2024-06-19T05:11:59.888Z"
   },
   {
    "duration": 3,
    "start_time": "2024-06-19T05:12:03.726Z"
   },
   {
    "duration": 4,
    "start_time": "2024-06-19T05:12:09.255Z"
   },
   {
    "duration": 3,
    "start_time": "2024-06-19T05:12:23.104Z"
   },
   {
    "duration": 3,
    "start_time": "2024-06-19T05:13:53.619Z"
   },
   {
    "duration": 4,
    "start_time": "2024-06-19T05:13:57.947Z"
   },
   {
    "duration": 9,
    "start_time": "2024-06-19T05:20:28.400Z"
   },
   {
    "duration": 882,
    "start_time": "2024-06-19T05:21:18.041Z"
   },
   {
    "duration": 7,
    "start_time": "2024-06-19T05:21:34.633Z"
   },
   {
    "duration": 3,
    "start_time": "2024-06-19T05:21:48.844Z"
   },
   {
    "duration": 3,
    "start_time": "2024-06-19T05:22:01.481Z"
   },
   {
    "duration": 3,
    "start_time": "2024-06-19T05:22:45.759Z"
   },
   {
    "duration": 3,
    "start_time": "2024-06-19T05:22:59.634Z"
   },
   {
    "duration": 8,
    "start_time": "2024-06-19T05:23:45.236Z"
   },
   {
    "duration": 3,
    "start_time": "2024-06-19T05:23:55.066Z"
   },
   {
    "duration": 3,
    "start_time": "2024-06-19T05:24:04.484Z"
   },
   {
    "duration": 7,
    "start_time": "2024-06-19T05:24:13.438Z"
   },
   {
    "duration": 1097,
    "start_time": "2024-06-19T05:24:34.435Z"
   },
   {
    "duration": 33,
    "start_time": "2024-06-19T05:24:35.533Z"
   },
   {
    "duration": 40,
    "start_time": "2024-06-19T05:24:35.567Z"
   },
   {
    "duration": 21,
    "start_time": "2024-06-19T05:24:35.609Z"
   },
   {
    "duration": 3,
    "start_time": "2024-06-19T05:24:35.632Z"
   },
   {
    "duration": 14,
    "start_time": "2024-06-19T05:24:35.636Z"
   },
   {
    "duration": 10,
    "start_time": "2024-06-19T05:24:35.651Z"
   },
   {
    "duration": 9,
    "start_time": "2024-06-19T05:24:35.662Z"
   },
   {
    "duration": 3,
    "start_time": "2024-06-19T05:24:35.672Z"
   },
   {
    "duration": 14,
    "start_time": "2024-06-19T05:24:35.677Z"
   },
   {
    "duration": 11,
    "start_time": "2024-06-19T05:24:35.720Z"
   },
   {
    "duration": 492,
    "start_time": "2024-06-19T05:24:35.732Z"
   },
   {
    "duration": 173,
    "start_time": "2024-06-19T05:24:36.226Z"
   },
   {
    "duration": 290,
    "start_time": "2024-06-19T05:24:36.401Z"
   },
   {
    "duration": 173,
    "start_time": "2024-06-19T05:24:36.692Z"
   },
   {
    "duration": 255,
    "start_time": "2024-06-19T05:24:36.867Z"
   },
   {
    "duration": 113,
    "start_time": "2024-06-19T05:24:37.123Z"
   },
   {
    "duration": 4,
    "start_time": "2024-06-19T05:24:37.237Z"
   },
   {
    "duration": 139,
    "start_time": "2024-06-19T05:24:37.242Z"
   },
   {
    "duration": 4,
    "start_time": "2024-06-19T05:24:37.382Z"
   },
   {
    "duration": 87,
    "start_time": "2024-06-19T05:24:37.387Z"
   },
   {
    "duration": 103,
    "start_time": "2024-06-19T05:24:37.475Z"
   },
   {
    "duration": 18,
    "start_time": "2024-06-19T05:24:37.579Z"
   },
   {
    "duration": 131,
    "start_time": "2024-06-19T05:24:37.598Z"
   },
   {
    "duration": 23,
    "start_time": "2024-06-19T05:24:37.731Z"
   },
   {
    "duration": 8,
    "start_time": "2024-06-19T05:24:37.755Z"
   },
   {
    "duration": 6,
    "start_time": "2024-06-19T05:24:37.764Z"
   },
   {
    "duration": 49,
    "start_time": "2024-06-19T05:24:37.773Z"
   },
   {
    "duration": 4,
    "start_time": "2024-06-19T05:24:37.823Z"
   },
   {
    "duration": 11,
    "start_time": "2024-06-19T05:24:37.828Z"
   },
   {
    "duration": 988,
    "start_time": "2024-06-19T05:25:07.556Z"
   },
   {
    "duration": 32,
    "start_time": "2024-06-19T05:25:08.546Z"
   },
   {
    "duration": 41,
    "start_time": "2024-06-19T05:25:08.579Z"
   },
   {
    "duration": 19,
    "start_time": "2024-06-19T05:25:08.622Z"
   },
   {
    "duration": 2,
    "start_time": "2024-06-19T05:25:08.642Z"
   },
   {
    "duration": 19,
    "start_time": "2024-06-19T05:25:08.645Z"
   },
   {
    "duration": 10,
    "start_time": "2024-06-19T05:25:08.666Z"
   },
   {
    "duration": 9,
    "start_time": "2024-06-19T05:25:08.678Z"
   },
   {
    "duration": 8,
    "start_time": "2024-06-19T05:25:08.689Z"
   },
   {
    "duration": 30,
    "start_time": "2024-06-19T05:25:08.699Z"
   },
   {
    "duration": 21,
    "start_time": "2024-06-19T05:25:08.731Z"
   },
   {
    "duration": 472,
    "start_time": "2024-06-19T05:25:08.754Z"
   },
   {
    "duration": 162,
    "start_time": "2024-06-19T05:25:09.227Z"
   },
   {
    "duration": 373,
    "start_time": "2024-06-19T05:25:09.391Z"
   },
   {
    "duration": 367,
    "start_time": "2024-06-19T05:25:09.765Z"
   },
   {
    "duration": 413,
    "start_time": "2024-06-19T05:25:10.133Z"
   },
   {
    "duration": 209,
    "start_time": "2024-06-19T05:25:10.548Z"
   },
   {
    "duration": 61,
    "start_time": "2024-06-19T05:25:10.759Z"
   },
   {
    "duration": 184,
    "start_time": "2024-06-19T05:25:10.822Z"
   },
   {
    "duration": 3,
    "start_time": "2024-06-19T05:25:11.008Z"
   },
   {
    "duration": 80,
    "start_time": "2024-06-19T05:25:11.012Z"
   },
   {
    "duration": 110,
    "start_time": "2024-06-19T05:25:11.094Z"
   },
   {
    "duration": 31,
    "start_time": "2024-06-19T05:25:11.205Z"
   },
   {
    "duration": 137,
    "start_time": "2024-06-19T05:25:11.237Z"
   },
   {
    "duration": 26,
    "start_time": "2024-06-19T05:25:11.375Z"
   },
   {
    "duration": 24,
    "start_time": "2024-06-19T05:25:11.402Z"
   },
   {
    "duration": 8,
    "start_time": "2024-06-19T05:25:11.427Z"
   },
   {
    "duration": 26,
    "start_time": "2024-06-19T05:25:11.439Z"
   },
   {
    "duration": 4,
    "start_time": "2024-06-19T05:25:11.467Z"
   },
   {
    "duration": 14,
    "start_time": "2024-06-19T05:25:11.472Z"
   },
   {
    "duration": 1127,
    "start_time": "2024-06-19T12:38:42.398Z"
   },
   {
    "duration": 34,
    "start_time": "2024-06-19T12:38:43.527Z"
   },
   {
    "duration": 44,
    "start_time": "2024-06-19T12:38:43.563Z"
   },
   {
    "duration": 22,
    "start_time": "2024-06-19T12:38:43.608Z"
   },
   {
    "duration": 2,
    "start_time": "2024-06-19T12:38:43.633Z"
   },
   {
    "duration": 28,
    "start_time": "2024-06-19T12:38:43.637Z"
   },
   {
    "duration": 11,
    "start_time": "2024-06-19T12:38:43.667Z"
   },
   {
    "duration": 14,
    "start_time": "2024-06-19T12:38:43.680Z"
   },
   {
    "duration": 12,
    "start_time": "2024-06-19T12:38:43.696Z"
   },
   {
    "duration": 19,
    "start_time": "2024-06-19T12:38:43.710Z"
   },
   {
    "duration": 27,
    "start_time": "2024-06-19T12:38:43.730Z"
   },
   {
    "duration": 553,
    "start_time": "2024-06-19T12:38:43.758Z"
   },
   {
    "duration": 216,
    "start_time": "2024-06-19T12:38:44.313Z"
   },
   {
    "duration": 338,
    "start_time": "2024-06-19T12:38:44.533Z"
   },
   {
    "duration": 211,
    "start_time": "2024-06-19T12:38:44.873Z"
   },
   {
    "duration": 315,
    "start_time": "2024-06-19T12:38:45.086Z"
   },
   {
    "duration": 144,
    "start_time": "2024-06-19T12:38:45.403Z"
   },
   {
    "duration": 4,
    "start_time": "2024-06-19T12:38:45.549Z"
   },
   {
    "duration": 162,
    "start_time": "2024-06-19T12:38:45.554Z"
   },
   {
    "duration": 4,
    "start_time": "2024-06-19T12:38:45.719Z"
   },
   {
    "duration": 129,
    "start_time": "2024-06-19T12:38:45.725Z"
   },
   {
    "duration": 140,
    "start_time": "2024-06-19T12:38:45.856Z"
   },
   {
    "duration": 21,
    "start_time": "2024-06-19T12:38:45.998Z"
   },
   {
    "duration": 181,
    "start_time": "2024-06-19T12:38:46.021Z"
   },
   {
    "duration": 46,
    "start_time": "2024-06-19T12:38:46.204Z"
   },
   {
    "duration": 13,
    "start_time": "2024-06-19T12:38:46.252Z"
   },
   {
    "duration": 21,
    "start_time": "2024-06-19T12:38:46.268Z"
   },
   {
    "duration": 56,
    "start_time": "2024-06-19T12:38:46.290Z"
   },
   {
    "duration": 7,
    "start_time": "2024-06-19T12:38:46.348Z"
   },
   {
    "duration": 31,
    "start_time": "2024-06-19T12:38:46.357Z"
   },
   {
    "duration": 1160,
    "start_time": "2024-06-19T12:43:40.468Z"
   },
   {
    "duration": 42,
    "start_time": "2024-06-19T12:43:41.630Z"
   },
   {
    "duration": 229,
    "start_time": "2024-06-19T12:43:41.673Z"
   },
   {
    "duration": 21,
    "start_time": "2024-06-19T12:43:41.905Z"
   },
   {
    "duration": 4,
    "start_time": "2024-06-19T12:43:41.928Z"
   },
   {
    "duration": 27,
    "start_time": "2024-06-19T12:43:41.933Z"
   },
   {
    "duration": 12,
    "start_time": "2024-06-19T12:43:41.961Z"
   },
   {
    "duration": 37,
    "start_time": "2024-06-19T12:43:41.974Z"
   },
   {
    "duration": 35,
    "start_time": "2024-06-19T12:43:42.013Z"
   },
   {
    "duration": 41,
    "start_time": "2024-06-19T12:43:42.052Z"
   },
   {
    "duration": 45,
    "start_time": "2024-06-19T12:43:42.095Z"
   },
   {
    "duration": 566,
    "start_time": "2024-06-19T12:43:42.143Z"
   },
   {
    "duration": 203,
    "start_time": "2024-06-19T12:43:42.711Z"
   },
   {
    "duration": 359,
    "start_time": "2024-06-19T12:43:42.915Z"
   },
   {
    "duration": 216,
    "start_time": "2024-06-19T12:43:43.276Z"
   },
   {
    "duration": 303,
    "start_time": "2024-06-19T12:43:43.494Z"
   },
   {
    "duration": 165,
    "start_time": "2024-06-19T12:43:43.799Z"
   },
   {
    "duration": 4,
    "start_time": "2024-06-19T12:43:43.966Z"
   },
   {
    "duration": 158,
    "start_time": "2024-06-19T12:43:43.971Z"
   },
   {
    "duration": 4,
    "start_time": "2024-06-19T12:43:44.131Z"
   },
   {
    "duration": 91,
    "start_time": "2024-06-19T12:43:44.145Z"
   },
   {
    "duration": 127,
    "start_time": "2024-06-19T12:43:44.237Z"
   },
   {
    "duration": 21,
    "start_time": "2024-06-19T12:43:44.365Z"
   },
   {
    "duration": 141,
    "start_time": "2024-06-19T12:43:44.388Z"
   },
   {
    "duration": 36,
    "start_time": "2024-06-19T12:43:44.531Z"
   },
   {
    "duration": 12,
    "start_time": "2024-06-19T12:43:44.569Z"
   },
   {
    "duration": 9,
    "start_time": "2024-06-19T12:43:44.582Z"
   },
   {
    "duration": 53,
    "start_time": "2024-06-19T12:43:44.594Z"
   },
   {
    "duration": 4,
    "start_time": "2024-06-19T12:43:44.649Z"
   },
   {
    "duration": 37,
    "start_time": "2024-06-19T12:43:44.654Z"
   },
   {
    "duration": 79,
    "start_time": "2024-06-19T12:47:33.678Z"
   },
   {
    "duration": 15,
    "start_time": "2024-06-19T12:47:38.532Z"
   },
   {
    "duration": 102,
    "start_time": "2024-06-19T12:48:12.261Z"
   },
   {
    "duration": 14,
    "start_time": "2024-06-19T12:48:51.685Z"
   },
   {
    "duration": 19,
    "start_time": "2024-06-19T12:48:55.821Z"
   },
   {
    "duration": 14,
    "start_time": "2024-06-19T12:50:30.973Z"
   },
   {
    "duration": 9,
    "start_time": "2024-06-19T12:51:12.180Z"
   },
   {
    "duration": 1186,
    "start_time": "2024-06-19T12:51:25.940Z"
   },
   {
    "duration": 74,
    "start_time": "2024-06-19T12:51:27.128Z"
   },
   {
    "duration": 44,
    "start_time": "2024-06-19T12:51:27.203Z"
   },
   {
    "duration": 24,
    "start_time": "2024-06-19T12:51:27.249Z"
   },
   {
    "duration": 4,
    "start_time": "2024-06-19T12:51:27.275Z"
   },
   {
    "duration": 19,
    "start_time": "2024-06-19T12:51:27.280Z"
   },
   {
    "duration": 13,
    "start_time": "2024-06-19T12:51:27.300Z"
   },
   {
    "duration": 26,
    "start_time": "2024-06-19T12:51:27.315Z"
   },
   {
    "duration": 4,
    "start_time": "2024-06-19T12:51:27.345Z"
   },
   {
    "duration": 20,
    "start_time": "2024-06-19T12:51:27.350Z"
   },
   {
    "duration": 25,
    "start_time": "2024-06-19T12:51:27.372Z"
   },
   {
    "duration": 618,
    "start_time": "2024-06-19T12:51:27.399Z"
   },
   {
    "duration": 207,
    "start_time": "2024-06-19T12:51:28.019Z"
   },
   {
    "duration": 348,
    "start_time": "2024-06-19T12:51:28.229Z"
   },
   {
    "duration": 224,
    "start_time": "2024-06-19T12:51:28.579Z"
   },
   {
    "duration": 329,
    "start_time": "2024-06-19T12:51:28.805Z"
   },
   {
    "duration": 140,
    "start_time": "2024-06-19T12:51:29.136Z"
   },
   {
    "duration": 5,
    "start_time": "2024-06-19T12:51:29.279Z"
   },
   {
    "duration": 179,
    "start_time": "2024-06-19T12:51:29.286Z"
   },
   {
    "duration": 5,
    "start_time": "2024-06-19T12:51:29.467Z"
   },
   {
    "duration": 184,
    "start_time": "2024-06-19T12:51:29.474Z"
   },
   {
    "duration": 116,
    "start_time": "2024-06-19T12:51:29.660Z"
   },
   {
    "duration": 20,
    "start_time": "2024-06-19T12:51:29.778Z"
   },
   {
    "duration": 148,
    "start_time": "2024-06-19T12:51:29.800Z"
   },
   {
    "duration": 29,
    "start_time": "2024-06-19T12:51:29.949Z"
   },
   {
    "duration": 10,
    "start_time": "2024-06-19T12:51:29.980Z"
   },
   {
    "duration": 49,
    "start_time": "2024-06-19T12:51:29.992Z"
   },
   {
    "duration": 63,
    "start_time": "2024-06-19T12:51:30.042Z"
   },
   {
    "duration": 15,
    "start_time": "2024-06-19T12:51:30.107Z"
   },
   {
    "duration": 37,
    "start_time": "2024-06-19T12:51:30.124Z"
   },
   {
    "duration": 19,
    "start_time": "2024-06-19T12:52:31.518Z"
   },
   {
    "duration": 101,
    "start_time": "2024-06-19T12:52:58.109Z"
   },
   {
    "duration": 1150,
    "start_time": "2024-06-19T12:53:03.374Z"
   },
   {
    "duration": 35,
    "start_time": "2024-06-19T12:53:04.526Z"
   },
   {
    "duration": 44,
    "start_time": "2024-06-19T12:53:04.563Z"
   },
   {
    "duration": 21,
    "start_time": "2024-06-19T12:53:04.609Z"
   },
   {
    "duration": 3,
    "start_time": "2024-06-19T12:53:04.633Z"
   },
   {
    "duration": 14,
    "start_time": "2024-06-19T12:53:04.637Z"
   },
   {
    "duration": 26,
    "start_time": "2024-06-19T12:53:04.653Z"
   },
   {
    "duration": 12,
    "start_time": "2024-06-19T12:53:04.680Z"
   },
   {
    "duration": 3,
    "start_time": "2024-06-19T12:53:04.693Z"
   },
   {
    "duration": 43,
    "start_time": "2024-06-19T12:53:04.698Z"
   },
   {
    "duration": 42,
    "start_time": "2024-06-19T12:53:04.742Z"
   },
   {
    "duration": 619,
    "start_time": "2024-06-19T12:53:04.785Z"
   },
   {
    "duration": 209,
    "start_time": "2024-06-19T12:53:05.406Z"
   },
   {
    "duration": 355,
    "start_time": "2024-06-19T12:53:05.618Z"
   },
   {
    "duration": 217,
    "start_time": "2024-06-19T12:53:05.975Z"
   },
   {
    "duration": 309,
    "start_time": "2024-06-19T12:53:06.194Z"
   },
   {
    "duration": 173,
    "start_time": "2024-06-19T12:53:06.505Z"
   },
   {
    "duration": 5,
    "start_time": "2024-06-19T12:53:06.681Z"
   },
   {
    "duration": 174,
    "start_time": "2024-06-19T12:53:06.689Z"
   },
   {
    "duration": 5,
    "start_time": "2024-06-19T12:53:06.865Z"
   },
   {
    "duration": 140,
    "start_time": "2024-06-19T12:53:06.872Z"
   },
   {
    "duration": 126,
    "start_time": "2024-06-19T12:53:07.013Z"
   },
   {
    "duration": 23,
    "start_time": "2024-06-19T12:53:07.140Z"
   },
   {
    "duration": 158,
    "start_time": "2024-06-19T12:53:07.164Z"
   },
   {
    "duration": 45,
    "start_time": "2024-06-19T12:53:07.324Z"
   },
   {
    "duration": 11,
    "start_time": "2024-06-19T12:53:07.371Z"
   },
   {
    "duration": 16,
    "start_time": "2024-06-19T12:53:07.384Z"
   },
   {
    "duration": 43,
    "start_time": "2024-06-19T12:53:07.402Z"
   },
   {
    "duration": 4,
    "start_time": "2024-06-19T12:53:07.447Z"
   },
   {
    "duration": 15,
    "start_time": "2024-06-19T12:53:07.452Z"
   },
   {
    "duration": 1199,
    "start_time": "2024-06-19T12:55:49.248Z"
   },
   {
    "duration": 36,
    "start_time": "2024-06-19T12:55:50.449Z"
   },
   {
    "duration": 44,
    "start_time": "2024-06-19T12:55:50.487Z"
   },
   {
    "duration": 22,
    "start_time": "2024-06-19T12:55:50.533Z"
   },
   {
    "duration": 4,
    "start_time": "2024-06-19T12:55:50.557Z"
   },
   {
    "duration": 48,
    "start_time": "2024-06-19T12:55:50.562Z"
   },
   {
    "duration": 18,
    "start_time": "2024-06-19T12:55:50.612Z"
   },
   {
    "duration": 45,
    "start_time": "2024-06-19T12:55:50.631Z"
   },
   {
    "duration": 22,
    "start_time": "2024-06-19T12:55:50.678Z"
   },
   {
    "duration": 19,
    "start_time": "2024-06-19T12:55:50.702Z"
   },
   {
    "duration": 36,
    "start_time": "2024-06-19T12:55:50.723Z"
   },
   {
    "duration": 597,
    "start_time": "2024-06-19T12:55:50.761Z"
   },
   {
    "duration": 208,
    "start_time": "2024-06-19T12:55:51.360Z"
   },
   {
    "duration": 304,
    "start_time": "2024-06-19T12:55:51.571Z"
   },
   {
    "duration": 229,
    "start_time": "2024-06-19T12:55:51.877Z"
   },
   {
    "duration": 353,
    "start_time": "2024-06-19T12:55:52.108Z"
   },
   {
    "duration": 163,
    "start_time": "2024-06-19T12:55:52.463Z"
   },
   {
    "duration": 4,
    "start_time": "2024-06-19T12:55:52.628Z"
   },
   {
    "duration": 189,
    "start_time": "2024-06-19T12:55:52.634Z"
   },
   {
    "duration": 5,
    "start_time": "2024-06-19T12:55:52.825Z"
   },
   {
    "duration": 106,
    "start_time": "2024-06-19T12:55:52.845Z"
   },
   {
    "duration": 121,
    "start_time": "2024-06-19T12:55:52.953Z"
   },
   {
    "duration": 21,
    "start_time": "2024-06-19T12:55:53.076Z"
   },
   {
    "duration": 164,
    "start_time": "2024-06-19T12:55:53.099Z"
   },
   {
    "duration": 33,
    "start_time": "2024-06-19T12:55:53.264Z"
   },
   {
    "duration": 11,
    "start_time": "2024-06-19T12:55:53.299Z"
   },
   {
    "duration": 30,
    "start_time": "2024-06-19T12:55:53.312Z"
   },
   {
    "duration": 90,
    "start_time": "2024-06-19T12:55:53.344Z"
   },
   {
    "duration": 4,
    "start_time": "2024-06-19T12:55:53.436Z"
   },
   {
    "duration": 17,
    "start_time": "2024-06-19T12:55:53.441Z"
   },
   {
    "duration": 49,
    "start_time": "2024-06-19T13:18:28.106Z"
   },
   {
    "duration": 7,
    "start_time": "2024-06-19T13:18:30.497Z"
   },
   {
    "duration": 1538,
    "start_time": "2024-06-19T13:18:56.917Z"
   },
   {
    "duration": 81,
    "start_time": "2024-06-19T13:18:58.457Z"
   },
   {
    "duration": 97,
    "start_time": "2024-06-19T13:18:58.539Z"
   },
   {
    "duration": 74,
    "start_time": "2024-06-19T13:18:58.638Z"
   },
   {
    "duration": 3,
    "start_time": "2024-06-19T13:18:58.714Z"
   },
   {
    "duration": 16,
    "start_time": "2024-06-19T13:18:58.719Z"
   },
   {
    "duration": 12,
    "start_time": "2024-06-19T13:18:58.736Z"
   },
   {
    "duration": 32,
    "start_time": "2024-06-19T13:18:58.749Z"
   },
   {
    "duration": 4,
    "start_time": "2024-06-19T13:18:58.783Z"
   },
   {
    "duration": 26,
    "start_time": "2024-06-19T13:18:58.790Z"
   },
   {
    "duration": 12,
    "start_time": "2024-06-19T13:18:58.817Z"
   },
   {
    "duration": 23,
    "start_time": "2024-06-19T13:18:58.830Z"
   },
   {
    "duration": 564,
    "start_time": "2024-06-19T13:18:58.855Z"
   },
   {
    "duration": 193,
    "start_time": "2024-06-19T13:18:59.421Z"
   },
   {
    "duration": 399,
    "start_time": "2024-06-19T13:18:59.616Z"
   },
   {
    "duration": 217,
    "start_time": "2024-06-19T13:19:00.018Z"
   },
   {
    "duration": 344,
    "start_time": "2024-06-19T13:19:00.237Z"
   },
   {
    "duration": 136,
    "start_time": "2024-06-19T13:19:00.583Z"
   },
   {
    "duration": 5,
    "start_time": "2024-06-19T13:19:00.721Z"
   },
   {
    "duration": 205,
    "start_time": "2024-06-19T13:19:00.727Z"
   },
   {
    "duration": 4,
    "start_time": "2024-06-19T13:19:00.934Z"
   },
   {
    "duration": 631,
    "start_time": "2024-06-19T13:19:00.946Z"
   },
   {
    "duration": 287,
    "start_time": "2024-06-19T13:19:01.579Z"
   },
   {
    "duration": 587,
    "start_time": "2024-06-19T13:19:01.868Z"
   },
   {
    "duration": 516,
    "start_time": "2024-06-19T13:19:02.456Z"
   },
   {
    "duration": 31,
    "start_time": "2024-06-19T13:19:02.973Z"
   },
   {
    "duration": 10,
    "start_time": "2024-06-19T13:19:03.006Z"
   },
   {
    "duration": 49,
    "start_time": "2024-06-19T13:19:03.021Z"
   },
   {
    "duration": 39,
    "start_time": "2024-06-19T13:19:03.073Z"
   },
   {
    "duration": 5,
    "start_time": "2024-06-19T13:19:03.114Z"
   },
   {
    "duration": 24,
    "start_time": "2024-06-19T13:19:03.121Z"
   },
   {
    "duration": 14,
    "start_time": "2024-06-19T13:19:31.399Z"
   },
   {
    "duration": 14,
    "start_time": "2024-06-19T13:19:47.785Z"
   },
   {
    "duration": 18,
    "start_time": "2024-06-19T13:19:54.925Z"
   },
   {
    "duration": 13,
    "start_time": "2024-06-19T13:20:14.928Z"
   },
   {
    "duration": 13,
    "start_time": "2024-06-19T13:23:23.447Z"
   },
   {
    "duration": 4,
    "start_time": "2024-06-19T13:23:32.523Z"
   },
   {
    "duration": 4,
    "start_time": "2024-06-19T13:23:50.014Z"
   },
   {
    "duration": 5,
    "start_time": "2024-06-19T13:23:57.958Z"
   },
   {
    "duration": 16,
    "start_time": "2024-06-19T13:25:49.661Z"
   },
   {
    "duration": 17,
    "start_time": "2024-06-19T13:26:05.821Z"
   },
   {
    "duration": 15,
    "start_time": "2024-06-19T13:26:14.243Z"
   },
   {
    "duration": 1154,
    "start_time": "2024-06-19T13:29:12.264Z"
   },
   {
    "duration": 35,
    "start_time": "2024-06-19T13:29:13.420Z"
   },
   {
    "duration": 64,
    "start_time": "2024-06-19T13:29:13.457Z"
   },
   {
    "duration": 39,
    "start_time": "2024-06-19T13:29:13.522Z"
   },
   {
    "duration": 4,
    "start_time": "2024-06-19T13:29:13.562Z"
   },
   {
    "duration": 22,
    "start_time": "2024-06-19T13:29:13.568Z"
   },
   {
    "duration": 27,
    "start_time": "2024-06-19T13:29:13.591Z"
   },
   {
    "duration": 12,
    "start_time": "2024-06-19T13:29:13.620Z"
   },
   {
    "duration": 5,
    "start_time": "2024-06-19T13:29:13.634Z"
   },
   {
    "duration": 25,
    "start_time": "2024-06-19T13:29:13.641Z"
   },
   {
    "duration": 5,
    "start_time": "2024-06-19T13:29:13.668Z"
   },
   {
    "duration": 33,
    "start_time": "2024-06-19T13:29:13.674Z"
   },
   {
    "duration": 24,
    "start_time": "2024-06-19T13:29:13.708Z"
   },
   {
    "duration": 568,
    "start_time": "2024-06-19T13:29:13.733Z"
   },
   {
    "duration": 190,
    "start_time": "2024-06-19T13:29:14.302Z"
   },
   {
    "duration": 287,
    "start_time": "2024-06-19T13:29:14.494Z"
   },
   {
    "duration": 227,
    "start_time": "2024-06-19T13:29:14.783Z"
   },
   {
    "duration": 343,
    "start_time": "2024-06-19T13:29:15.012Z"
   },
   {
    "duration": 137,
    "start_time": "2024-06-19T13:29:15.356Z"
   },
   {
    "duration": 4,
    "start_time": "2024-06-19T13:29:15.494Z"
   },
   {
    "duration": 183,
    "start_time": "2024-06-19T13:29:15.499Z"
   },
   {
    "duration": 5,
    "start_time": "2024-06-19T13:29:15.683Z"
   },
   {
    "duration": 122,
    "start_time": "2024-06-19T13:29:15.689Z"
   },
   {
    "duration": 166,
    "start_time": "2024-06-19T13:29:15.813Z"
   },
   {
    "duration": 22,
    "start_time": "2024-06-19T13:29:15.980Z"
   },
   {
    "duration": 139,
    "start_time": "2024-06-19T13:29:16.004Z"
   },
   {
    "duration": 30,
    "start_time": "2024-06-19T13:29:16.145Z"
   },
   {
    "duration": 15,
    "start_time": "2024-06-19T13:29:16.178Z"
   },
   {
    "duration": 34,
    "start_time": "2024-06-19T13:29:16.195Z"
   },
   {
    "duration": 41,
    "start_time": "2024-06-19T13:29:16.230Z"
   },
   {
    "duration": 16,
    "start_time": "2024-06-19T13:29:16.273Z"
   },
   {
    "duration": 66,
    "start_time": "2024-06-19T13:29:16.290Z"
   },
   {
    "duration": 11,
    "start_time": "2024-06-19T13:30:37.274Z"
   },
   {
    "duration": 1225,
    "start_time": "2024-06-19T13:53:39.750Z"
   },
   {
    "duration": 35,
    "start_time": "2024-06-19T13:53:40.978Z"
   },
   {
    "duration": 43,
    "start_time": "2024-06-19T13:53:41.014Z"
   },
   {
    "duration": 98,
    "start_time": "2024-06-19T13:53:41.060Z"
   },
   {
    "duration": 4,
    "start_time": "2024-06-19T13:53:41.159Z"
   },
   {
    "duration": 18,
    "start_time": "2024-06-19T13:53:41.164Z"
   },
   {
    "duration": 12,
    "start_time": "2024-06-19T13:53:41.183Z"
   },
   {
    "duration": 11,
    "start_time": "2024-06-19T13:53:41.197Z"
   },
   {
    "duration": 4,
    "start_time": "2024-06-19T13:53:41.209Z"
   },
   {
    "duration": 44,
    "start_time": "2024-06-19T13:53:41.215Z"
   },
   {
    "duration": 4,
    "start_time": "2024-06-19T13:53:41.261Z"
   },
   {
    "duration": 20,
    "start_time": "2024-06-19T13:53:41.267Z"
   },
   {
    "duration": 21,
    "start_time": "2024-06-19T13:53:41.289Z"
   },
   {
    "duration": 613,
    "start_time": "2024-06-19T13:53:41.312Z"
   },
   {
    "duration": 215,
    "start_time": "2024-06-19T13:53:41.926Z"
   },
   {
    "duration": 346,
    "start_time": "2024-06-19T13:53:42.145Z"
   },
   {
    "duration": 224,
    "start_time": "2024-06-19T13:53:42.493Z"
   },
   {
    "duration": 323,
    "start_time": "2024-06-19T13:53:42.719Z"
   },
   {
    "duration": 136,
    "start_time": "2024-06-19T13:53:43.046Z"
   },
   {
    "duration": 4,
    "start_time": "2024-06-19T13:53:43.184Z"
   },
   {
    "duration": 163,
    "start_time": "2024-06-19T13:53:43.190Z"
   },
   {
    "duration": 4,
    "start_time": "2024-06-19T13:53:43.355Z"
   },
   {
    "duration": 107,
    "start_time": "2024-06-19T13:53:43.361Z"
   },
   {
    "duration": 145,
    "start_time": "2024-06-19T13:53:43.469Z"
   },
   {
    "duration": 45,
    "start_time": "2024-06-19T13:53:43.616Z"
   },
   {
    "duration": 171,
    "start_time": "2024-06-19T13:53:43.663Z"
   },
   {
    "duration": 51,
    "start_time": "2024-06-19T13:53:43.835Z"
   },
   {
    "duration": 14,
    "start_time": "2024-06-19T13:53:43.891Z"
   },
   {
    "duration": 19,
    "start_time": "2024-06-19T13:53:43.907Z"
   },
   {
    "duration": 61,
    "start_time": "2024-06-19T13:53:43.928Z"
   },
   {
    "duration": 4,
    "start_time": "2024-06-19T13:53:43.991Z"
   },
   {
    "duration": 29,
    "start_time": "2024-06-19T13:53:43.997Z"
   },
   {
    "duration": 1163,
    "start_time": "2024-06-19T13:54:23.468Z"
   },
   {
    "duration": 42,
    "start_time": "2024-06-19T13:54:24.633Z"
   },
   {
    "duration": 47,
    "start_time": "2024-06-19T13:54:24.677Z"
   },
   {
    "duration": 21,
    "start_time": "2024-06-19T13:54:24.726Z"
   },
   {
    "duration": 3,
    "start_time": "2024-06-19T13:54:24.749Z"
   },
   {
    "duration": 35,
    "start_time": "2024-06-19T13:54:24.754Z"
   },
   {
    "duration": 25,
    "start_time": "2024-06-19T13:54:24.791Z"
   },
   {
    "duration": 52,
    "start_time": "2024-06-19T13:54:24.818Z"
   },
   {
    "duration": 18,
    "start_time": "2024-06-19T13:54:24.872Z"
   },
   {
    "duration": 50,
    "start_time": "2024-06-19T13:54:24.892Z"
   },
   {
    "duration": 4,
    "start_time": "2024-06-19T13:54:24.944Z"
   },
   {
    "duration": 19,
    "start_time": "2024-06-19T13:54:24.949Z"
   },
   {
    "duration": 19,
    "start_time": "2024-06-19T13:54:24.969Z"
   },
   {
    "duration": 538,
    "start_time": "2024-06-19T13:54:24.992Z"
   },
   {
    "duration": 204,
    "start_time": "2024-06-19T13:54:25.532Z"
   },
   {
    "duration": 333,
    "start_time": "2024-06-19T13:54:25.738Z"
   },
   {
    "duration": 207,
    "start_time": "2024-06-19T13:54:26.072Z"
   },
   {
    "duration": 345,
    "start_time": "2024-06-19T13:54:26.281Z"
   },
   {
    "duration": 149,
    "start_time": "2024-06-19T13:54:26.628Z"
   },
   {
    "duration": 5,
    "start_time": "2024-06-19T13:54:26.779Z"
   },
   {
    "duration": 175,
    "start_time": "2024-06-19T13:54:26.785Z"
   },
   {
    "duration": 5,
    "start_time": "2024-06-19T13:54:26.962Z"
   },
   {
    "duration": 125,
    "start_time": "2024-06-19T13:54:26.969Z"
   },
   {
    "duration": 122,
    "start_time": "2024-06-19T13:54:27.096Z"
   },
   {
    "duration": 37,
    "start_time": "2024-06-19T13:54:27.220Z"
   },
   {
    "duration": 161,
    "start_time": "2024-06-19T13:54:27.259Z"
   },
   {
    "duration": 39,
    "start_time": "2024-06-19T13:54:27.422Z"
   },
   {
    "duration": 10,
    "start_time": "2024-06-19T13:54:27.462Z"
   },
   {
    "duration": 7,
    "start_time": "2024-06-19T13:54:27.474Z"
   },
   {
    "duration": 34,
    "start_time": "2024-06-19T13:54:27.482Z"
   },
   {
    "duration": 30,
    "start_time": "2024-06-19T13:54:27.518Z"
   },
   {
    "duration": 15,
    "start_time": "2024-06-19T13:54:27.550Z"
   }
  ],
  "kernelspec": {
   "display_name": "Python 3 (ipykernel)",
   "language": "python",
   "name": "python3"
  },
  "language_info": {
   "codemirror_mode": {
    "name": "ipython",
    "version": 3
   },
   "file_extension": ".py",
   "mimetype": "text/x-python",
   "name": "python",
   "nbconvert_exporter": "python",
   "pygments_lexer": "ipython3",
   "version": "3.9.5"
  },
  "toc": {
   "base_numbering": 1,
   "nav_menu": {},
   "number_sections": true,
   "sideBar": true,
   "skip_h1_title": true,
   "title_cell": "Table of Contents",
   "title_sidebar": "Contents",
   "toc_cell": false,
   "toc_position": {
    "height": "calc(100% - 180px)",
    "left": "10px",
    "top": "150px",
    "width": "357.542px"
   },
   "toc_section_display": true,
   "toc_window_display": true
  }
 },
 "nbformat": 4,
 "nbformat_minor": 2
}
